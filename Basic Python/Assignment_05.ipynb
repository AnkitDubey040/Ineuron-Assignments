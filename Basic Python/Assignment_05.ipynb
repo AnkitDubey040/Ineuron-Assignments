{
 "cells": [
  {
   "cell_type": "markdown",
   "id": "702ccf03",
   "metadata": {},
   "source": [
    "#### 1. What does an empty dictionary's code look like?  \n",
    "##### Ans:   \n",
    "An empty Dict is represented by two curly braces with no elements inside them , i.e.   \n",
    "d = {}   \n",
    "\n",
    "\n",
    "#### 2. What is the value of a dictionary value with the key 'foo' and the value 42?    \n",
    "##### Ans:  \n",
    "The value is :  \n",
    "{'foo': 42}  \n",
    "  \n",
    "    \n",
    "#### 3. What is the most significant distinction between a dictionary and a list?  \n",
    "##### Ans:  \n",
    "A dictionary is represented by {}  i.e. curly brackets whereas a list is represented by [] i.e. square brackets.  \n",
    "also items in dictionary are key value pairs whereas in list elements are simple singleton values.  \n",
    "  \n",
    "    \n",
    "#### 4. What happens if you try to access spam['foo'] if spam is {'bar': 100}?    \n",
    "##### Ans:  \n",
    "We will get a KeyError as        \n",
    "KeyError : 'foo'  \n",
    "  \n",
    "#### 5. If a dictionary is stored in spam, what is the difference between the expressions 'cat' in spam and 'cat' in spam.keys()?  \n",
    "##### Ans:   \n",
    "There is No difference . The operator only checks whether a value exists as a key in the dictionary or not.  \n",
    "  \n",
    "    \n",
    "#### 6. If a dictionary is stored in spam, what is the difference between the expressions 'cat' in spam and 'cat' in spam.values()?   \n",
    "##### Ans:  \n",
    "'cat' in spam checks whether there is a 'cat' key in the dictionary, while 'cat' in spam.values() checks whether there is a value 'cat' for one of the keys in spam. Both return True or False based on whether condition is satisfied or not  \n",
    "   \n",
    "  \n",
    "#### 7. What is a shortcut for the following code?  \n",
    "if 'color' not in spam:  \n",
    "spam['color'] = 'black'   \n",
    "##### Ans:  \n",
    "The shortcut is to use setdefault(key , value) method which returns value of an item with specified key and if the key does not exists it inserts the key with specified vaues in the dictionary. So here the shortcut will be :   \n",
    "  \n",
    "spam.setdefault('color':'black')    \n",
    "  \n",
    "  \n",
    "#### 8. How do you \"pretty print\" dictionary values using which module and function?  \n",
    "##### Ans:  \n",
    "1. Using pprint() method of pprint module.  \n",
    "2. Using dumps() method of json module.  "
   ]
  },
  {
   "cell_type": "code",
   "execution_count": null,
   "id": "57cc3081",
   "metadata": {},
   "outputs": [],
   "source": []
  }
 ],
 "metadata": {
  "kernelspec": {
   "display_name": "Python 3 (ipykernel)",
   "language": "python",
   "name": "python3"
  },
  "language_info": {
   "codemirror_mode": {
    "name": "ipython",
    "version": 3
   },
   "file_extension": ".py",
   "mimetype": "text/x-python",
   "name": "python",
   "nbconvert_exporter": "python",
   "pygments_lexer": "ipython3",
   "version": "3.9.12"
  }
 },
 "nbformat": 4,
 "nbformat_minor": 5
}
