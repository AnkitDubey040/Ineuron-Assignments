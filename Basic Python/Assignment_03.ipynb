{
 "cells": [
  {
   "cell_type": "markdown",
   "id": "2da8df20",
   "metadata": {},
   "source": [
    "##### 1. Why are functions advantageous to have in your programs?"
   ]
  },
  {
   "cell_type": "markdown",
   "id": "71b6155b",
   "metadata": {},
   "source": [
    "Ans: Functions provide us with code reusability. Whenever we have a requirement where we need to use the same piece of code\n",
    "    multiple times than instead of writing it multiple times, function can be created an dcalled to use that code. It helps\n",
    "    to make the code shorter, easier to read and easy to update."
   ]
  },
  {
   "cell_type": "markdown",
   "id": "67e407fc",
   "metadata": {},
   "source": [
    "##### 2. When does the code in a function run: when it's specified or when it's called?"
   ]
  },
  {
   "cell_type": "markdown",
   "id": "96920ca7",
   "metadata": {},
   "source": [
    "Ans: The code in a function runs only when the function is called . "
   ]
  },
  {
   "cell_type": "markdown",
   "id": "e07e0cd7",
   "metadata": {},
   "source": [
    "##### 3. What statement creates a function?"
   ]
  },
  {
   "cell_type": "markdown",
   "id": "2b3aa0bb",
   "metadata": {},
   "source": [
    "Ans: To create a function we use the def keyword and the syntax of a function is as follows:"
   ]
  },
  {
   "cell_type": "code",
   "execution_count": 9,
   "id": "62292091",
   "metadata": {},
   "outputs": [],
   "source": [
    "def function_name(parameters):\n",
    "    #function code \n",
    "    return return_value"
   ]
  },
  {
   "cell_type": "markdown",
   "id": "40780f4e",
   "metadata": {},
   "source": [
    "##### 4. What is the difference between a function and a function call?"
   ]
  },
  {
   "cell_type": "markdown",
   "id": "a74b1e0b",
   "metadata": {},
   "source": [
    "Ans: A function is a procedure or a block of code that is created to use same code multiple times in a program whereas function call is code to transer control to a function that exists so that the code inside the function can be used . "
   ]
  },
  {
   "cell_type": "markdown",
   "id": "41bb86aa",
   "metadata": {},
   "source": [
    "##### 5. How many global scopes are there in a Python program? How many local scopes?"
   ]
  },
  {
   "cell_type": "markdown",
   "id": "59c94f74",
   "metadata": {},
   "source": [
    "Ans: There is only one global scope in a python program. If a variable is declared in global scope it remain available throughout\n",
    "    the program. Whereas there can be as many Local scope as needed. If a variable is defined in a function then it can be \n",
    "    accessed only within that function and cannot be used outside that program so it has a local scope . Now same variable name can be defined inside \n",
    "    different functions and so those has scope inside only those functions."
   ]
  },
  {
   "cell_type": "markdown",
   "id": "08bdf305",
   "metadata": {},
   "source": [
    "##### 6. What happens to variables in a local scope when the function call returns?"
   ]
  },
  {
   "cell_type": "markdown",
   "id": "e196f55e",
   "metadata": {},
   "source": [
    "Ans: When a function returns, the local scope ends, and all the variables in the function are reset to their initial            values."
   ]
  },
  {
   "cell_type": "markdown",
   "id": "53e9c235",
   "metadata": {},
   "source": [
    "##### 7. What is the concept of a return value? Is it possible to have a return value in an expression?"
   ]
  },
  {
   "cell_type": "markdown",
   "id": "2d59eecf",
   "metadata": {},
   "source": [
    "Ans : When we define a function to run a code, sometimes it is expected to get the result from the function and then further processing is required based on the result of the function. Since the local variables cannot be accessed outside the function so return statement is used. It is used to pass the result of the function to the calling place.\n",
    "Yes it is possible to have a return value in an expression . For example: "
   ]
  },
  {
   "cell_type": "code",
   "execution_count": 12,
   "id": "cb5c4cee",
   "metadata": {},
   "outputs": [
    {
     "data": {
      "text/plain": [
       "209"
      ]
     },
     "execution_count": 12,
     "metadata": {},
     "output_type": "execute_result"
    }
   ],
   "source": [
    "def func1(a):\n",
    "    return a \n",
    "\n",
    "func1(209)"
   ]
  },
  {
   "cell_type": "markdown",
   "id": "d08594de",
   "metadata": {},
   "source": [
    "##### 8. If a function does not have a return statement, what is the return value of a call to that function?"
   ]
  },
  {
   "cell_type": "markdown",
   "id": "d679d758",
   "metadata": {},
   "source": [
    "Ans: If a function has no return statement then it's return value is NONE. "
   ]
  },
  {
   "cell_type": "markdown",
   "id": "15534b1c",
   "metadata": {},
   "source": [
    "##### 9. How do you make a function variable refer to the global variable?"
   ]
  },
  {
   "cell_type": "markdown",
   "id": "d8a87ff5",
   "metadata": {},
   "source": [
    "Ans: Variables that are created outside of a function body are known as global variables. Global variables can be used both inside and outside of the functions. To refer to a global variable inside a function we need to use the global keyword with the variable name. For example : global a = 12"
   ]
  },
  {
   "cell_type": "markdown",
   "id": "570d8790",
   "metadata": {},
   "source": [
    "##### 10. What is the data type of None?"
   ]
  },
  {
   "cell_type": "markdown",
   "id": "9dc7cc5a",
   "metadata": {},
   "source": [
    "Ans: NoneType"
   ]
  },
  {
   "cell_type": "markdown",
   "id": "9dc4211a",
   "metadata": {},
   "source": [
    "##### 11. What does the sentence import areallyourpetsnamederic do?"
   ]
  },
  {
   "cell_type": "markdown",
   "id": "792fd508",
   "metadata": {},
   "source": [
    "Ans :Import statement is used to import the existing module in current program to use it's features and functions. Here the statement :   import areallyourprtsnamederic \n",
    "will import the module by same name and programmer will be able to use the functions and variables of this module in the current program. "
   ]
  },
  {
   "cell_type": "markdown",
   "id": "5ed47897",
   "metadata": {},
   "source": [
    "##### 12. If you had a bacon() feature in a spam module, what would you call it after importing spam?"
   ]
  },
  {
   "cell_type": "markdown",
   "id": "da3026b1",
   "metadata": {},
   "source": [
    "Ans:   span.bacon()"
   ]
  },
  {
   "cell_type": "markdown",
   "id": "95ad1313",
   "metadata": {},
   "source": [
    "##### 13. What can you do to save a programme from crashing if it encounters an error?"
   ]
  },
  {
   "cell_type": "markdown",
   "id": "87d34069",
   "metadata": {},
   "source": [
    "Ans : To save a program from crashing we can put the code in try except block and catch the exception and do the proper error handling. Generally if there are certain conditions where the program can crash then that piece of code can be present in try block and except block can be written to handle the different exceptions which can be thrown by code present in try block."
   ]
  },
  {
   "cell_type": "markdown",
   "id": "c2efac7a",
   "metadata": {},
   "source": [
    "##### 14. What is the purpose of the try clause? What is the purpose of the except clause?"
   ]
  },
  {
   "cell_type": "markdown",
   "id": "dcb22467",
   "metadata": {},
   "source": [
    "Ans: Try clause is used to contain a piece of a code which can thron error during execution. if we do not use try block then program can terminate abnormally which can result in data or files in error state. so proper error handling can be done by putting the code in try block. \n",
    "except clause is used to catch the exceptions which can be thrown by the code in try block. We can mention differnt type of exceptions in excelpt clause and can gracefully terminate the code"
   ]
  }
 ],
 "metadata": {
  "kernelspec": {
   "display_name": "Python 3 (ipykernel)",
   "language": "python",
   "name": "python3"
  },
  "language_info": {
   "codemirror_mode": {
    "name": "ipython",
    "version": 3
   },
   "file_extension": ".py",
   "mimetype": "text/x-python",
   "name": "python",
   "nbconvert_exporter": "python",
   "pygments_lexer": "ipython3",
   "version": "3.9.12"
  }
 },
 "nbformat": 4,
 "nbformat_minor": 5
}
