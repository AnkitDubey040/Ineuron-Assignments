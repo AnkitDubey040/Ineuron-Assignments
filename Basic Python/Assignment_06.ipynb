{
 "cells": [
  {
   "cell_type": "markdown",
   "id": "eab5557a",
   "metadata": {},
   "source": [
    "#### 1. What are escape characters, and how do you use them?\n",
    "##### Ans:  \n",
    "Escape characters represent characters in string values that would otherwise be difficult or impossible to type into code. We can use the backslash character \\ to escape a single character or symbol.  \n",
    "For Example :    \\t , \\n   \n",
    "\n",
    "#### 2. What do the escape characters n and t stand for?\n",
    "##### Ans:  \n",
    "\\n stands for new line an d\\t stands for tab   \n",
    "\n",
    "#### 3. What is the way to include backslash characters in a string?  \n",
    "##### Ans:  \n",
    "To include a backslash in string we use \\\\ i.e. double backslash.  \n",
    "\n",
    "#### 4. The string \"Howl's Moving Castle\" is a correct value. Why isn't the single quote character in the word Howl's not escaped a problem?  \n",
    "##### Ans:   \n",
    "The string \"Howl's Moving Castle\" escaped the problem because it is wrapped inside double quotes and inside double quotes we can have a single quote , it will not create any syntax error, however if it was wrapped inside single quotes then we have to use escape character \\' to show single quote in the final output.  \n",
    "\n",
    "#### 5. How do you write a string of newlines if you don't want to use the n character?  \n",
    "##### Ans: \n",
    "Multiline string in Python allows one to use newlines in string without using the \\n escape character."
   ]
  },
  {
   "cell_type": "code",
   "execution_count": 3,
   "id": "fc7d5308",
   "metadata": {},
   "outputs": [
    {
     "name": "stdout",
     "output_type": "stream",
     "text": [
      "\n",
      "Hey  \n",
      "How are you? \n",
      "I hope you are doing good\n",
      "\n"
     ]
    }
   ],
   "source": [
    "x = '''\n",
    "Hey  \n",
    "How are you? \n",
    "I hope you are doing good\n",
    "'''\n",
    "print(x)"
   ]
  },
  {
   "cell_type": "markdown",
   "id": "29f855d8",
   "metadata": {},
   "source": [
    "### 6. What are the values of the given expressions?\n",
    "'Hello, world!'[1]\n",
    "'Hello, world!'[0:5]\n",
    "'Hello, world!'[:5]\n",
    "'Hello, world!'[3:]\n",
    "##### Ans: \n",
    "'Hello, world!'[1] will returns value 'e'  as it prints the character at 1st index of the given statement.   \n",
    "'Hello, world!'[0:5] returns 'Hello' , it prints characters at index 0 to 5   \n",
    "'Hello, world!'[:5]  returns 'Hello' , it prints charcaters from starting index to 5th index  \n",
    "'Hello, world!'[3:] returns 'lo, world!' , it prints chara characters from index 3 to last index \n",
    "\n",
    "#### 7. What are the values of the following expressions?\n",
    "'Hello'.upper()  \n",
    "'Hello'.upper().isupper()  \n",
    "'Hello'.upper().lower()  \n",
    "##### Ans:   \n",
    "'Hello'.upper() returns the string 'HELLO'  \n",
    "'Hello'.upper().isupper() returns the value True .   \n",
    "'Hello'.upper().lower() returns the string 'hello'  \n",
    "\n",
    "#### 8. What are the values of the following expressions?\n",
    "'Remember, remember, the fifth of July.'.split()  \n",
    "'-'.join('There can only one.'.split())   \n",
    "##### Ans: \n",
    "'Remember, remember, the fifth of July.'.split()  will split each word in the string as element of a list and return the value : ['Remember,', 'remember,', 'the', 'fifth', 'of', 'July.']    \n",
    "'-'.join('There can only one.'.split())   will return the string 'There-can-only-one.'  \n",
    "\n",
    "#### 9. What are the methods for right-justifying, left-justifying, and centering a string?  \n",
    "##### Ans: \n",
    "For right-justifying we use rjsut() , for left-justifying we use ljust() and for centring we use center() method.  \n",
    "\n",
    "#### 10. What is the best way to remove whitespace characters from the start or end?  \n",
    "##### Ans: \n",
    "The strip() method is used to remove the white space in a string ,whereas lstrip() and rstrip() methods remove whitesapce characters from the left and right ends of a string respectively."
   ]
  }
 ],
 "metadata": {
  "kernelspec": {
   "display_name": "Python 3 (ipykernel)",
   "language": "python",
   "name": "python3"
  },
  "language_info": {
   "codemirror_mode": {
    "name": "ipython",
    "version": 3
   },
   "file_extension": ".py",
   "mimetype": "text/x-python",
   "name": "python",
   "nbconvert_exporter": "python",
   "pygments_lexer": "ipython3",
   "version": "3.9.12"
  }
 },
 "nbformat": 4,
 "nbformat_minor": 5
}
