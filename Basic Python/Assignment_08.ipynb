{
 "cells": [
  {
   "cell_type": "markdown",
   "id": "accd45b2",
   "metadata": {},
   "source": [
    "#### 1. Is the Python Standard Library included with PyInputPlus?  \n",
    "##### Ans:  \n",
    "No, PyInputPlus is not a part of Python Standard Library, it needs to be installed explicitly using the command:\n",
    "pip install PyInputPlus  \n",
    "\n",
    "#### 2. Why is PyInputPlus commonly imported with import pyinputplus as pypi?  \n",
    "##### Ans:  \n",
    "pypi is actually like a nicknaeme given to this library so we can import the module with import pyinputplus as pyip and hence we can enter a shorter name everytime when calling the module's functions.     \n",
    "\n",
    "#### 3. How do you distinguish between inputInt() and inputFloat()?   \n",
    "##### Ans:   \n",
    "inputInt() function Accepts an integer value. This also takes additional parameters min, max, greaterThan and lessThan for bounds. And it always returns an int.  \n",
    "Whereas inputFloat() function Accepts a floating-point numeric value. this also takes additional min, max, greaterThan and lessThan parameters. and always returns a float.  \n",
    "\n",
    "#### 4. Using PyInputPlus, how do you ensure that the user enters a whole number between 0 and 99?  \n",
    "##### Ans:  \n",
    "By using pyip.inputint(min=0, max=99)  \n",
    "\n",
    "#### 5. What is transferred to the keyword arguments allowRegexes and blockRegexes?  \n",
    "##### Ans:  \n",
    "We can use allowRegexes and blockRegexes keyword arguments to take list of regular expression strings to determine what the pyinputplus function will reject or accept valid input.  \n",
    "\n",
    "#### 6. If a blank input is entered three times, what does inputStr(limit=3) do?  \n",
    "##### Ans:  \n",
    "The function will raise RetryLimitException or VAlidationException based on following:  \n",
    "The first exception is thrown because blank values are not allowed by inputStr() function by default. it we want to consider blank values as valid input, we have to set blank=True.  \n",
    "The second exception is occured because we have reached the max limit we have specified by using limit parameter. in order to avoid this exception we can use default parameter to return a default value when max limit is reached.  \n",
    "\n",
    "#### 7. If blank input is entered three times, what does inputStr(limit=3, default=&#39;hello&#39;) do?  \n",
    "##### Ans:  \n",
    "The function will return hello as response to the calling function.  "
   ]
  }
 ],
 "metadata": {
  "kernelspec": {
   "display_name": "Python 3 (ipykernel)",
   "language": "python",
   "name": "python3"
  },
  "language_info": {
   "codemirror_mode": {
    "name": "ipython",
    "version": 3
   },
   "file_extension": ".py",
   "mimetype": "text/x-python",
   "name": "python",
   "nbconvert_exporter": "python",
   "pygments_lexer": "ipython3",
   "version": "3.9.12"
  }
 },
 "nbformat": 4,
 "nbformat_minor": 5
}
