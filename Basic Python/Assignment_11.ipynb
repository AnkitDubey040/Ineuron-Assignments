{
 "cells": [
  {
   "cell_type": "markdown",
   "id": "93e4eab9",
   "metadata": {},
   "source": [
    "#### 1. Create an assert statement that throws an AssertionError if the variable spam is a negative integer.  \n",
    "Ans: "
   ]
  },
  {
   "cell_type": "code",
   "execution_count": 2,
   "id": "6607b4d7",
   "metadata": {},
   "outputs": [
    {
     "ename": "AssertionError",
     "evalue": " Variable spam should not be a negative number",
     "output_type": "error",
     "traceback": [
      "\u001b[1;31m---------------------------------------------------------------------------\u001b[0m",
      "\u001b[1;31mAssertionError\u001b[0m                            Traceback (most recent call last)",
      "Input \u001b[1;32mIn [2]\u001b[0m, in \u001b[0;36m<cell line: 2>\u001b[1;34m()\u001b[0m\n\u001b[0;32m      1\u001b[0m spam \u001b[38;5;241m=\u001b[39m \u001b[38;5;241m-\u001b[39m\u001b[38;5;241m5\u001b[39m\n\u001b[1;32m----> 2\u001b[0m \u001b[38;5;28;01massert\u001b[39;00m spam \u001b[38;5;241m>\u001b[39m\u001b[38;5;241m=\u001b[39m\u001b[38;5;241m0\u001b[39m , \u001b[38;5;124m'\u001b[39m\u001b[38;5;124m Variable spam should not be a negative number\u001b[39m\u001b[38;5;124m'\u001b[39m\n",
      "\u001b[1;31mAssertionError\u001b[0m:  Variable spam should not be a negative number"
     ]
    }
   ],
   "source": [
    "spam = -5\n",
    "assert spam >=0 , ' Variable spam should not be a negative number'"
   ]
  },
  {
   "cell_type": "markdown",
   "id": "76612643",
   "metadata": {},
   "source": [
    "#### 2. Write an assert statement that triggers an AssertionError if the variables eggs and bacon containstrings that are the same as each other, even if their cases are different (that is, &#39;hello&#39; and &#39;hello&#39; areconsidered the same, and &#39;goodbye&#39; and &#39;GOODbye&#39; are also considered the same).  \n",
    "Ans: "
   ]
  },
  {
   "cell_type": "code",
   "execution_count": 3,
   "id": "3e9e7cc6",
   "metadata": {},
   "outputs": [],
   "source": [
    "def assert_func(egg,bacon):\n",
    "    egg = egg.upper()\n",
    "    bacon = bacon.upper()\n",
    "    assert not(egg == bacon), 'Eggs and Bacon should not be same, which are same now'"
   ]
  },
  {
   "cell_type": "code",
   "execution_count": 4,
   "id": "56a0b8d3",
   "metadata": {},
   "outputs": [
    {
     "ename": "AssertionError",
     "evalue": "Eggs and Bacon should not be same, which are same now",
     "output_type": "error",
     "traceback": [
      "\u001b[1;31m---------------------------------------------------------------------------\u001b[0m",
      "\u001b[1;31mAssertionError\u001b[0m                            Traceback (most recent call last)",
      "Input \u001b[1;32mIn [4]\u001b[0m, in \u001b[0;36m<cell line: 1>\u001b[1;34m()\u001b[0m\n\u001b[1;32m----> 1\u001b[0m \u001b[43mraise_assert\u001b[49m\u001b[43m(\u001b[49m\u001b[38;5;124;43m'\u001b[39;49m\u001b[38;5;124;43mhello\u001b[39;49m\u001b[38;5;124;43m'\u001b[39;49m\u001b[43m,\u001b[49m\u001b[38;5;124;43m'\u001b[39;49m\u001b[38;5;124;43mHEllo\u001b[39;49m\u001b[38;5;124;43m'\u001b[39;49m\u001b[43m)\u001b[49m\n",
      "Input \u001b[1;32mIn [3]\u001b[0m, in \u001b[0;36mraise_assert\u001b[1;34m(egg, bacon)\u001b[0m\n\u001b[0;32m      2\u001b[0m egg \u001b[38;5;241m=\u001b[39m egg\u001b[38;5;241m.\u001b[39mupper()\n\u001b[0;32m      3\u001b[0m bacon \u001b[38;5;241m=\u001b[39m bacon\u001b[38;5;241m.\u001b[39mupper()\n\u001b[1;32m----> 4\u001b[0m \u001b[38;5;28;01massert\u001b[39;00m \u001b[38;5;129;01mnot\u001b[39;00m(egg \u001b[38;5;241m==\u001b[39m bacon), \u001b[38;5;124m'\u001b[39m\u001b[38;5;124mEggs and Bacon should not be same, which are same now\u001b[39m\u001b[38;5;124m'\u001b[39m\n",
      "\u001b[1;31mAssertionError\u001b[0m: Eggs and Bacon should not be same, which are same now"
     ]
    }
   ],
   "source": [
    "raise_assert('hello','HEllo')"
   ]
  },
  {
   "cell_type": "markdown",
   "id": "aaf80f02",
   "metadata": {},
   "source": [
    "#### 3. Create an assert statement that throws an AssertionError every time.  \n",
    "Ans:   "
   ]
  },
  {
   "cell_type": "code",
   "execution_count": 6,
   "id": "a68720ca",
   "metadata": {},
   "outputs": [
    {
     "ename": "AssertionError",
     "evalue": "Always Shows Assertion Error",
     "output_type": "error",
     "traceback": [
      "\u001b[1;31m---------------------------------------------------------------------------\u001b[0m",
      "\u001b[1;31mAssertionError\u001b[0m                            Traceback (most recent call last)",
      "Input \u001b[1;32mIn [6]\u001b[0m, in \u001b[0;36m<cell line: 3>\u001b[1;34m()\u001b[0m\n\u001b[0;32m      1\u001b[0m \u001b[38;5;28;01mdef\u001b[39;00m \u001b[38;5;21massert_every_time\u001b[39m():\n\u001b[0;32m      2\u001b[0m     \u001b[38;5;28;01massert\u001b[39;00m \u001b[38;5;28;01mFalse\u001b[39;00m, \u001b[38;5;124m'\u001b[39m\u001b[38;5;124mAlways Shows Assertion Error\u001b[39m\u001b[38;5;124m'\u001b[39m\n\u001b[1;32m----> 3\u001b[0m \u001b[43massert_every_time\u001b[49m\u001b[43m(\u001b[49m\u001b[43m)\u001b[49m\n",
      "Input \u001b[1;32mIn [6]\u001b[0m, in \u001b[0;36massert_every_time\u001b[1;34m()\u001b[0m\n\u001b[0;32m      1\u001b[0m \u001b[38;5;28;01mdef\u001b[39;00m \u001b[38;5;21massert_every_time\u001b[39m():\n\u001b[1;32m----> 2\u001b[0m     \u001b[38;5;28;01massert\u001b[39;00m \u001b[38;5;28;01mFalse\u001b[39;00m, \u001b[38;5;124m'\u001b[39m\u001b[38;5;124mAlways Shows Assertion Error\u001b[39m\u001b[38;5;124m'\u001b[39m\n",
      "\u001b[1;31mAssertionError\u001b[0m: Always Shows Assertion Error"
     ]
    }
   ],
   "source": [
    "def assert_every_time():\n",
    "    assert False, 'Always Shows Assertion Error'\n",
    "assert_every_time()"
   ]
  },
  {
   "cell_type": "markdown",
   "id": "d2fd2325",
   "metadata": {},
   "source": [
    "#### 4. What are the two lines that must be present in your software in order to call logging.debug()?  \n",
    "Ans:  \n",
    "import logging    \n",
    "logging.basicConfig(filename = 'abc.txt',level=logging.DEBUG, format=' %(asctime)s - %(levelname)s - %(message)s')   \n",
    "\n",
    "#### 5. What are the two lines that your program must have in order to have logging.debug() send a logging message to a file named programLog.txt?  \n",
    "Ans:  \n",
    "import logging  \n",
    "logging.basicConfig( filename='programLog.txt',level=logging.DEBUG, format='%(asctime)s - %(levelname)s - %(message)s')   \n",
    "\n",
    "#### 6. What are the five levels of logging?  \n",
    "Ans:  \n",
    "The Five levels of Logging provided by python's logging module are CRITICAL, ERROR, WARNING, INFO, DEBUG.  \n",
    "\n",
    "#### 7. What line of code would you add to your software to disable all logging messages?  \n",
    "Ans:  \n",
    "logging.disable(logging.DEBUG)  \n",
    "\n",
    "#### 8.Why is using logging messages better than using print() to display the same message?  \n",
    "Ans:  \n",
    "Because afterdevlopment of the code, we can disable logging messages without removing the logging function, whereas we need to manually remove print() statements, which is tedious activity. and also print() is used when we want to display any particular message or help, whereas logging is used to record all events like error, info, debug messages, timestamps.  \n",
    "\n",
    "#### 9. What are the differences between the Step Over, Step In, and Step Out buttons in the debugger?  \n",
    "Ans:  \n",
    "Step in- Step In button will cause the debugger to execute the next line of code and then pause again. \n",
    "  \n",
    "Step Over- Step Over button will execute the next line of code, similar to the Step In button. However, if the next line of code is a function call, the Step Over button will “step over” the code in the function. The function’s code will be executed at full speed, and the debugger will pause as soon as the function call returns.  \n",
    "  \n",
    "Step out- Step Out button will cause the debugger to execute lines of code at full speed until it returns from the current function.  \n",
    "\n",
    "#### 10.After you click Continue, when will the debugger stop ?  \n",
    "Ans:  \n",
    "The program will continue running normally, without pausing for debugging untill it terminates or reaches a breakpoint.  \n",
    "\n",
    "#### 11. What is the concept of a breakpoint?  \n",
    "Ans:  \n",
    "Breakpoint is a setting point on a line of code that causes the debugger to pause when the program execution reaches that line.  "
   ]
  }
 ],
 "metadata": {
  "kernelspec": {
   "display_name": "Python 3 (ipykernel)",
   "language": "python",
   "name": "python3"
  },
  "language_info": {
   "codemirror_mode": {
    "name": "ipython",
    "version": 3
   },
   "file_extension": ".py",
   "mimetype": "text/x-python",
   "name": "python",
   "nbconvert_exporter": "python",
   "pygments_lexer": "ipython3",
   "version": "3.9.12"
  }
 },
 "nbformat": 4,
 "nbformat_minor": 5
}
