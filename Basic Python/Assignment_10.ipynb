{
 "cells": [
  {
   "cell_type": "markdown",
   "id": "7f648e81",
   "metadata": {},
   "source": [
    "#### 1. How do you distinguish between shutil.copy() and shutil.copytree()?\n",
    "Ans:  \n",
    "shutil.copy() method is used to copy the contents of a file from one file to another file/folder, it primarily takes two arguments src,dest. src represents the file to be copied i.e. the source, whereas dest refers to the file/folder to where the src data should be copied to i.e. the destination. If dest is a folder name same as src with exact name will be copied to the dest folder, if its a file then the contents of src will be copied to dest where dest retains it's name.  \n",
    "  \n",
    "shutil.copytree() function is used to copy the entire contents of a folder to other folder. it also takes two arguments src & dest. It copies all the content recursively and stores it in dest. The important catch here is dest must not exist prior to this operation and it will be created during the copy operation. Permissions and times of directories are copied with shutil.copystat() and individual files are copied using shutil.copy2() by default which can be modified using copy_function attribute.  \n",
    "\n",
    "#### 2. What function is used to rename files?\n",
    "Ans:   \n",
    "os.rename() function is used to rename files or directories using a python program, this function takes two arguments src and dest, src represents the name file/directory which we want to rename, whereas dest represents the new name of the file/directory.  \n",
    "\n",
    "#### 3. What is the difference between the delete functions in the send2trash and shutil modules?  \n",
    "Ans:  \n",
    "Shutil module provides a funciton called as shutil.rmtree() which deletes a directory and all its contents. The other functions with similar functionality are os.remove() that removes a file, os.rmdir() removes an empty directory. The problem with these functions are once a file is deleted, it will be lost permanently, if a file is deleted accidentally using these methods there is no way we can recover the deleted file.  \n",
    "  \n",
    "Whereas send2trash module provides a function called send2trash.send2trash() to delete a file/directory. These methods moves the files/directories to trash folder instead of permanently deleting them, hence if a file/folder is deleted accidentally it can be still recovered from trash folder, if the file is deleted using the send2trash.send2trash() function. send2trash is not included with python standard libary like os & shutil modules, it needs to be installed explicitly using the command !pip install send2trash.  \n",
    "\n",
    "#### 4. ZipFile objects have a close() method just like File objects’ close() method. What ZipFile method is equivalent to File objects’ open() method?  \n",
    "Ans:  \n",
    "ZipFile Module provides a method called as zipfile.ZipFile() to read and write to zipFiles. It takes arugments lile filename and mode etc.  \n",
    "Syntax is:  \n",
    "zipfile.ZipFile('filename', mode = 'r')    \n",
    "\n",
    "#### 5. Create a programme that searches a folder tree for files with a certain file extension (such as .pdf or .jpg). Copy these files from whatever location they are in to a new folder.    \n",
    "Ans:  "
   ]
  },
  {
   "cell_type": "code",
   "execution_count": 2,
   "id": "0f6d16f5",
   "metadata": {},
   "outputs": [
    {
     "name": "stdout",
     "output_type": "stream",
     "text": [
      "Folder Name : C:\\Users\\HP\\Jupyter codes\\ASSIGNMENTS\n",
      "\n",
      "Sub Folders : ['.ipynb_checkpoints', 'Dummy Destination']\n",
      "\n",
      "Files : ['Assignment_01.ipynb', 'Assignment_02.ipynb', 'Assignment_03.ipynb', 'Assignment_04.ipynb', 'Assignment_05.ipynb', 'Assignment_06.ipynb', 'Assignment_07.ipynb', 'Assignment_08.ipynb', 'Assignment_09.ipynb', 'Assignment_10.ipynb', 'Programming Assignment _1.ipynb', 'Programming Assignment_2.ipynb', 'Programming Assignment_3.ipynb']\n",
      "\n",
      "Files copied successfully from C:\\Users\\HP\\Jupyter codes\\ASSIGNMENTS to E:\\DATA_SCIENCE\\data fsds\\Dummy Destination\n"
     ]
    }
   ],
   "source": [
    "import os\n",
    "import shutil\n",
    "def search_and_copy(source,destination,extensions):\n",
    "    source = os.path.abspath(source)\n",
    "    destination = os.path.abspath(destination)\n",
    "    for foldername, subfolder, filenames in os.walk(source):\n",
    "        print(f'Folder Name : {foldername}',end='\\n\\n')\n",
    "        print(f'Sub Folders : {subfolder}',end='\\n\\n')\n",
    "        print(f'Files : {filenames}',end='\\n\\n')\n",
    "        for filename in filenames:\n",
    "            fileName,extension = os.path.splitext(filename)\n",
    "            if extension in extensions:\n",
    "                targetFile = foldername+os.path.sep+fileName+extension\n",
    "                shutil.copy(targetFile, destination)\n",
    "        print(f'Files copied successfully from {source} to {destination}')\n",
    "        break\n",
    "# extensions: here we will also serch for file with extension '.ipynb'        \n",
    "extensions = ['.pdf','.jpg','.ipynb']\n",
    "# Source folder\n",
    "source = os.getcwd()\n",
    "# Destination folder\n",
    "dirName = 'Dummy Destination'\n",
    "\n",
    "if not os.path.exists(dirName):\n",
    "    os.mkdir(dirName) \n",
    "destination = 'E:\\DATA_SCIENCE\\data fsds\\Dummy Destination'\n",
    "search_and_copy(source, destination, extensions)"
   ]
  }
 ],
 "metadata": {
  "kernelspec": {
   "display_name": "Python 3 (ipykernel)",
   "language": "python",
   "name": "python3"
  },
  "language_info": {
   "codemirror_mode": {
    "name": "ipython",
    "version": 3
   },
   "file_extension": ".py",
   "mimetype": "text/x-python",
   "name": "python",
   "nbconvert_exporter": "python",
   "pygments_lexer": "ipython3",
   "version": "3.9.12"
  }
 },
 "nbformat": 4,
 "nbformat_minor": 5
}
