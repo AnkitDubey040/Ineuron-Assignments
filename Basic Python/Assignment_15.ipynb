{
 "cells": [
  {
   "cell_type": "markdown",
   "id": "919ab36f",
   "metadata": {},
   "source": [
    "#### 1.How many seconds are in an hour? Use the interactive interpreter as a calculator and multiply the number of seconds in a minute (60) by the number of minutes in an hour (also 60).  \n",
    "Ans:"
   ]
  },
  {
   "cell_type": "code",
   "execution_count": 1,
   "id": "6af9453d",
   "metadata": {},
   "outputs": [
    {
     "name": "stdout",
     "output_type": "stream",
     "text": [
      "3600\n"
     ]
    }
   ],
   "source": [
    "# There are 60 min in an hour ans 60 sec in a minute so the no. of seconds in an hour are:\n",
    "print(60*60)"
   ]
  },
  {
   "cell_type": "markdown",
   "id": "bdc50ceb",
   "metadata": {},
   "source": [
    "#### 2. Assign the result from the previous task (seconds in an hour) to a variable called seconds_per_hour.\n",
    "Ans:  "
   ]
  },
  {
   "cell_type": "code",
   "execution_count": 4,
   "id": "77f561ce",
   "metadata": {},
   "outputs": [
    {
     "data": {
      "text/plain": [
       "3600"
      ]
     },
     "execution_count": 4,
     "metadata": {},
     "output_type": "execute_result"
    }
   ],
   "source": [
    "seconds_per_hour = 60*60\n",
    "seconds_per_hour"
   ]
  },
  {
   "cell_type": "markdown",
   "id": "ebde9b9b",
   "metadata": {},
   "source": [
    "#### 3. How many seconds do you think there are in a day? Make use of the variables seconds per hour and minutes per hour. \n",
    "Ans:    "
   ]
  },
  {
   "cell_type": "code",
   "execution_count": 6,
   "id": "9ebe9652",
   "metadata": {},
   "outputs": [
    {
     "data": {
      "text/plain": [
       "86400"
      ]
     },
     "execution_count": 6,
     "metadata": {},
     "output_type": "execute_result"
    }
   ],
   "source": [
    "# there are 24 hours in a day so we have :\n",
    "24*seconds_per_hour"
   ]
  },
  {
   "cell_type": "markdown",
   "id": "acca565a",
   "metadata": {},
   "source": [
    "####  4. Calculate seconds per day again, but this time save the result in a variable called seconds_per_day \n",
    "Ans:  "
   ]
  },
  {
   "cell_type": "code",
   "execution_count": 8,
   "id": "94286f4e",
   "metadata": {},
   "outputs": [
    {
     "data": {
      "text/plain": [
       "86400"
      ]
     },
     "execution_count": 8,
     "metadata": {},
     "output_type": "execute_result"
    }
   ],
   "source": [
    "seconds_per_day = 24*seconds_per_hour\n",
    "seconds_per_day"
   ]
  },
  {
   "cell_type": "markdown",
   "id": "cf9573b1",
   "metadata": {},
   "source": [
    "#### 5. Divide seconds_per_day by seconds_per_hour. Use floating-point (/) division.  \n",
    "Ans:  "
   ]
  },
  {
   "cell_type": "code",
   "execution_count": 9,
   "id": "8b1de491",
   "metadata": {},
   "outputs": [
    {
     "data": {
      "text/plain": [
       "24.0"
      ]
     },
     "execution_count": 9,
     "metadata": {},
     "output_type": "execute_result"
    }
   ],
   "source": [
    "seconds_per_day/seconds_per_hour"
   ]
  },
  {
   "cell_type": "markdown",
   "id": "6de46820",
   "metadata": {},
   "source": [
    "#### 6. Divide seconds_per_day by seconds_per_hour, using integer (//) division. Did this number agree with the floating-point value from the previous question, aside from the final .0?   \n",
    "Ans:  "
   ]
  },
  {
   "cell_type": "code",
   "execution_count": 10,
   "id": "31962a1f",
   "metadata": {},
   "outputs": [
    {
     "data": {
      "text/plain": [
       "24"
      ]
     },
     "execution_count": 10,
     "metadata": {},
     "output_type": "execute_result"
    }
   ],
   "source": [
    "seconds_per_day//seconds_per_hour"
   ]
  },
  {
   "cell_type": "markdown",
   "id": "cd98e3ff",
   "metadata": {},
   "source": [
    "Yes , it agrees with the floating point value from the previous question.\n",
    "\n",
    "#### 7. Write a generator, genPrimes, that returns the sequence of prime numbers on successive calls to its next() method: 2, 3, 5, 7, 11, ...\n",
    "Ans:  "
   ]
  },
  {
   "cell_type": "code",
   "execution_count": 1,
   "id": "a1142f06",
   "metadata": {},
   "outputs": [
    {
     "data": {
      "text/plain": [
       "2"
      ]
     },
     "execution_count": 1,
     "metadata": {},
     "output_type": "execute_result"
    }
   ],
   "source": [
    "def genPrimes():\n",
    "    primes = [2]\n",
    "    yield primes[0]\n",
    "    guess = 3\n",
    "    while True:\n",
    "        if all(guess%x != 0 for x in primes):\n",
    "            primes.append(guess)        \n",
    "        if guess == primes[-1]:\n",
    "            yield primes[-1]\n",
    "        guess += 2\n",
    "\n",
    "\n",
    "p = genPrimes()\n",
    "next(p)"
   ]
  },
  {
   "cell_type": "code",
   "execution_count": 2,
   "id": "05d82ab6",
   "metadata": {},
   "outputs": [
    {
     "data": {
      "text/plain": [
       "3"
      ]
     },
     "execution_count": 2,
     "metadata": {},
     "output_type": "execute_result"
    }
   ],
   "source": [
    "next(p)"
   ]
  },
  {
   "cell_type": "code",
   "execution_count": 3,
   "id": "9089d7c3",
   "metadata": {},
   "outputs": [
    {
     "data": {
      "text/plain": [
       "5"
      ]
     },
     "execution_count": 3,
     "metadata": {},
     "output_type": "execute_result"
    }
   ],
   "source": [
    "next(p)"
   ]
  },
  {
   "cell_type": "markdown",
   "id": "8c7f904b",
   "metadata": {},
   "source": [
    "and so on ."
   ]
  }
 ],
 "metadata": {
  "kernelspec": {
   "display_name": "Python 3 (ipykernel)",
   "language": "python",
   "name": "python3"
  },
  "language_info": {
   "codemirror_mode": {
    "name": "ipython",
    "version": 3
   },
   "file_extension": ".py",
   "mimetype": "text/x-python",
   "name": "python",
   "nbconvert_exporter": "python",
   "pygments_lexer": "ipython3",
   "version": "3.9.12"
  }
 },
 "nbformat": 4,
 "nbformat_minor": 5
}
