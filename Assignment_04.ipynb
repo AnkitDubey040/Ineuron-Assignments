{
 "cells": [
  {
   "cell_type": "markdown",
   "id": "30886bd5",
   "metadata": {},
   "source": [
    "##### 1. What exactly is [ ]?"
   ]
  },
  {
   "cell_type": "markdown",
   "id": "1787340e",
   "metadata": {},
   "source": [
    "Ans : The [] represents an empty list that contains no values, it is used to create a list in python and contains elements of the list."
   ]
  },
  {
   "cell_type": "markdown",
   "id": "2c89a52e",
   "metadata": {},
   "source": [
    "##### 2. In a list of values stored in a variable called spam, how would you assign the value 'hello' as the third value? (Assume [2, 4, 6, 8, 10] are in spam.)"
   ]
  },
  {
   "cell_type": "markdown",
   "id": "9db08920",
   "metadata": {},
   "source": [
    "Ans: "
   ]
  },
  {
   "cell_type": "code",
   "execution_count": 10,
   "id": "c8ce86d9",
   "metadata": {},
   "outputs": [
    {
     "name": "stdout",
     "output_type": "stream",
     "text": [
      "[2, 4, 6, 8, 10]\n",
      "[2, 4, 'hello', 8, 10]\n"
     ]
    }
   ],
   "source": [
    "spam = [ 2,4,6,8,10]\n",
    "print(spam)\n",
    "spam[2] = \"hello\" # to add to third position we give index 2 as the index of list start from 0 \n",
    "print(spam)"
   ]
  },
  {
   "cell_type": "markdown",
   "id": "ad1b26ac",
   "metadata": {},
   "source": [
    "###### Let's pretend the spam includes the list ['a', 'b', 'c', 'd'] for the next three queries."
   ]
  },
  {
   "cell_type": "code",
   "execution_count": 15,
   "id": "57781ef4",
   "metadata": {},
   "outputs": [],
   "source": [
    "spam = ['a' , 'b' , 'c' , 'd' ]"
   ]
  },
  {
   "cell_type": "markdown",
   "id": "fec0657c",
   "metadata": {},
   "source": [
    "##### 3. What is the value of spam[int(int('3' * 2) / 11)]?"
   ]
  },
  {
   "cell_type": "markdown",
   "id": "dae2cd38",
   "metadata": {},
   "source": [
    "Ans:  \n",
    " spam[int(int('3' * 2)/11)]  \n",
    "    spam[int(33/11)]  \n",
    "    spam[3]  \n",
    "    'd'"
   ]
  },
  {
   "cell_type": "markdown",
   "id": "52f2864a",
   "metadata": {},
   "source": [
    "##### 4. What is the value of spam[-1]?"
   ]
  },
  {
   "cell_type": "markdown",
   "id": "3b9aec98",
   "metadata": {},
   "source": [
    "Ans: spam[-1] is last element of the list i.e. 'd'"
   ]
  },
  {
   "cell_type": "markdown",
   "id": "14ce14fa",
   "metadata": {},
   "source": [
    "##### 5. What is the value of spam[:2]?"
   ]
  },
  {
   "cell_type": "markdown",
   "id": "e8877979",
   "metadata": {},
   "source": [
    "Ans: spam[:2] means slicing the list starting from 0th index upto 2nd index so Oth and 1st index elements are printed and the output is:  \n",
    "['a' , 'b'] "
   ]
  },
  {
   "cell_type": "markdown",
   "id": "231011c5",
   "metadata": {},
   "source": [
    "###### Let's pretend bacon has the list [3.14, 'cat,' 11, 'cat,' True] for the next three questions."
   ]
  },
  {
   "cell_type": "code",
   "execution_count": 31,
   "id": "29053cc6",
   "metadata": {},
   "outputs": [],
   "source": [
    "bacon = [3.14,'cat', 11 ,True]"
   ]
  },
  {
   "cell_type": "markdown",
   "id": "a2c8d79d",
   "metadata": {},
   "source": [
    "##### 6. What is the value of bacon.index('cat')?"
   ]
  },
  {
   "cell_type": "markdown",
   "id": "bacf959c",
   "metadata": {},
   "source": [
    "Ans: Since the indexes in a list start from 0 so the first element is at oth pos. , 2nd at 1st pos. and so on .  \n",
    "    in the bacon list 'cat' is second element so it's index is 1st . also index(element) function is used to print the index of first occurence of an elemnet in the list \n",
    "    so bacon.index('cat') will give us:  \n",
    "    1"
   ]
  },
  {
   "cell_type": "markdown",
   "id": "a5515689",
   "metadata": {},
   "source": [
    "##### 7. How does bacon.append(99) change the look of the list value in bacon?"
   ]
  },
  {
   "cell_type": "markdown",
   "id": "5b8f06f8",
   "metadata": {},
   "source": [
    "Ans: The .append() method adds new element at the end of the list, so the number of elements in the list get increased by the number of elements appended to the list."
   ]
  },
  {
   "cell_type": "code",
   "execution_count": 32,
   "id": "61763cbb",
   "metadata": {},
   "outputs": [
    {
     "data": {
      "text/plain": [
       "[3.14, 'cat', 11, True, 99]"
      ]
     },
     "execution_count": 32,
     "metadata": {},
     "output_type": "execute_result"
    }
   ],
   "source": [
    "bacon.append(99)\n",
    "bacon"
   ]
  },
  {
   "cell_type": "markdown",
   "id": "76d63419",
   "metadata": {},
   "source": [
    "##### 8. How does bacon.remove('cat') change the look of the list in bacon?"
   ]
  },
  {
   "cell_type": "markdown",
   "id": "1a668933",
   "metadata": {},
   "source": [
    "Ans: remove(element_to_remove) function is used to remove first occurence of element from the list. "
   ]
  },
  {
   "cell_type": "code",
   "execution_count": 33,
   "id": "f7a715f2",
   "metadata": {},
   "outputs": [
    {
     "data": {
      "text/plain": [
       "[3.14, 11, True, 99]"
      ]
     },
     "execution_count": 33,
     "metadata": {},
     "output_type": "execute_result"
    }
   ],
   "source": [
    "bacon.remove('cat')\n",
    "bacon"
   ]
  },
  {
   "cell_type": "markdown",
   "id": "51b47a91",
   "metadata": {},
   "source": [
    "#####  9. What are the list concatenation and list replication operators?"
   ]
  },
  {
   "cell_type": "markdown",
   "id": "6a0de948",
   "metadata": {},
   "source": [
    "Ans: List concatenation is done using '+' operator. Here we can combine multiple lists into a single list.  \n",
    "Replication is done using '*' operator where in we can replicate a list multiple times.  \n",
    "For example : "
   ]
  },
  {
   "cell_type": "code",
   "execution_count": 34,
   "id": "ca9a3904",
   "metadata": {},
   "outputs": [
    {
     "name": "stdout",
     "output_type": "stream",
     "text": [
      "['a', 'b', 'c', 'd', 'e', 'RNN', 'CNN', 'SDR']\n",
      "['RNN', 'CNN', 'SDR', 'RNN', 'CNN', 'SDR']\n"
     ]
    }
   ],
   "source": [
    "list_1 = ['a','b','c','d','e']\n",
    "list_2 = ['RNN','CNN','SDR']\n",
    "\n",
    "\n",
    "print(list_1 + list_2) # List Concatenation\n",
    "print(list_2 * 2) # List Replication"
   ]
  },
  {
   "cell_type": "markdown",
   "id": "108726d0",
   "metadata": {},
   "source": [
    "##### 10. What is difference between the list methods append() and insert()?"
   ]
  },
  {
   "cell_type": "markdown",
   "id": "4a06fc78",
   "metadata": {},
   "source": [
    "Ans: append() method is used to add elements at end of the list.  \n",
    "    insert() method is used to add element at any specified index of the list."
   ]
  },
  {
   "cell_type": "markdown",
   "id": "fca0e620",
   "metadata": {},
   "source": [
    "##### 11. What are the two methods for removing items from a list?"
   ]
  },
  {
   "cell_type": "markdown",
   "id": "7e4601ab",
   "metadata": {},
   "source": [
    "Ans: There are 3 methods to removig element from a list : \n",
    "1. remove(element) :  The remove() can remove any specific element from the list , by default it removes first occurence of that element . \n",
    "2. clear() : The clear() can remove all the elements from the list and make it an empty list. \n",
    "3. pop(index_of_element_to remove) : The pop() removes the element from the list and prints it as output. By default it removes the last element of the list. "
   ]
  },
  {
   "cell_type": "markdown",
   "id": "5987bda7",
   "metadata": {},
   "source": [
    "##### 12. Describe how list values and string values are identical."
   ]
  },
  {
   "cell_type": "markdown",
   "id": "566d26a2",
   "metadata": {},
   "source": [
    "Ans: Both lists and strings can be passed to len() function as both are iterable, both have indexes and can be sliced, can be used in for loops, can be concatenated or replicated, and can be used with the in and not in operators."
   ]
  },
  {
   "cell_type": "markdown",
   "id": "131f9e02",
   "metadata": {},
   "source": [
    "##### 13. What's the difference between tuples and lists?"
   ]
  },
  {
   "cell_type": "markdown",
   "id": "beb0be33",
   "metadata": {},
   "source": [
    "Ans: Tuple is used to create a collection of elements using () brackets. Tuples are immutable so once it is created it cannot be changed\n",
    "List is also used to create a collection of elements using [] brackets. Lists are mutable and can be modified to change the elements.\n",
    "Also tuples occupy less memory than list while storing the same number and type of elements inside them."
   ]
  },
  {
   "cell_type": "markdown",
   "id": "65386d1c",
   "metadata": {},
   "source": [
    "##### 14. How do you type a tuple value that only contains the integer 42?"
   ]
  },
  {
   "cell_type": "markdown",
   "id": "4092fb3e",
   "metadata": {},
   "source": [
    "Ans: (42,)  \n",
    "The trailing comma is mandatory. otherwise its considered as an int by python Interpreter"
   ]
  },
  {
   "cell_type": "code",
   "execution_count": 9,
   "id": "f854f20d",
   "metadata": {},
   "outputs": [
    {
     "name": "stdout",
     "output_type": "stream",
     "text": [
      "<class 'int'>\n",
      "<class 'tuple'>\n"
     ]
    }
   ],
   "source": [
    "tup1=(42)\n",
    "tup2=(42,)\n",
    "print(type(tup1))\n",
    "print(type(tup2))"
   ]
  },
  {
   "cell_type": "markdown",
   "id": "bd08c63c",
   "metadata": {},
   "source": [
    "##### 15. How do you get a list value's tuple form? How do you get a tuple value's list form?"
   ]
  },
  {
   "cell_type": "code",
   "execution_count": 12,
   "id": "19062a94",
   "metadata": {},
   "outputs": [
    {
     "name": "stdout",
     "output_type": "stream",
     "text": [
      "[1, 2, 3, 4, 5, 6, 7, 8] <class 'list'>\n",
      "(1, 2, 3, 4, 5, 6, 7, 8) <class 'tuple'>\n",
      "[1, 2, 3, 4, 5, 6, 7, 8] <class 'list'>\n"
     ]
    }
   ],
   "source": [
    "# The tuple() and list() functions respectively are used to convert a list to tuple and vice versa.It is called typecasting \n",
    "l = [1,2,3,4,5,6,7,8]\n",
    "print(l, type(l))\n",
    "\n",
    "t = tuple(l)            # Converting list to a tuple\n",
    "print(t, type(t))\n",
    "\n",
    "l1 = list(t)            # Converting tuple to a list\n",
    "print(l1, type(l1))"
   ]
  },
  {
   "cell_type": "markdown",
   "id": "87d60769",
   "metadata": {},
   "source": [
    "##### 16. Variables that \"contain\" list values are not necessarily lists themselves. Instead, what do they contain?"
   ]
  },
  {
   "cell_type": "markdown",
   "id": "30878d87",
   "metadata": {},
   "source": [
    "Ans: Python stores the reference when the data type is mutable.  \n",
    "So,Variables contain the reference of lists instead of having the lists themselves.  \n",
    "example:  \n",
    "a = ['ankit',2,4,76,4]  \n",
    "so here a has the reference of the list."
   ]
  },
  {
   "cell_type": "markdown",
   "id": "21e23369",
   "metadata": {},
   "source": [
    " ##### 17. How do you distinguish between copy.copy() and copy.deepcopy()?"
   ]
  },
  {
   "cell_type": "markdown",
   "id": "4d59b208",
   "metadata": {},
   "source": [
    "Ans: copy() function is used to create a copy of the list by copying the reference of the list. So it creates a new reference of list by using the copy function. Changes made in copied list does get reflected in copied list  \n",
    "deepcopy() function is used to create the duplicate copy of the list . So here both lists have their own refrence. Changes made in copied list does not get reflected in original list.  \n",
    "example:  "
   ]
  },
  {
   "cell_type": "code",
   "execution_count": 20,
   "id": "7403efbb",
   "metadata": {},
   "outputs": [
    {
     "name": "stdout",
     "output_type": "stream",
     "text": [
      "The original elements before copying\n",
      "22 31 [43, 51] 9 \n",
      "The new list  elements after copying\n",
      "22 31 [7, 51] 9 \n",
      "The original elements after  copying\n",
      "22 31 [7, 51] 9 "
     ]
    }
   ],
   "source": [
    "import copy\n",
    "l1= [22,31,[43,51],9]\n",
    "\n",
    "print (\"The original elements before copying\")\n",
    "for i in range(len(l1)):\n",
    "    print (l1[i],end=\" \")\n",
    "print()\n",
    "\n",
    "l2 = copy.copy(l1)\n",
    "\n",
    "l1[2][0] = 7\n",
    "\n",
    "print (\"The new list  elements after copying\")\n",
    "for i in range(len(l2)):\n",
    "    print (l2[i],end=\" \")\n",
    "    \n",
    "print()\n",
    "\n",
    "print (\"The original elements after  copying\")\n",
    "for i in range(0,len(l1)):\n",
    "    print (l1[i],end=\" \")"
   ]
  },
  {
   "cell_type": "code",
   "execution_count": 21,
   "id": "823681d8",
   "metadata": {},
   "outputs": [
    {
     "name": "stdout",
     "output_type": "stream",
     "text": [
      "The original elements before deep copying\n",
      "11 22 [31, 5] 4341 \n",
      "The new list of elements after deep copying \n",
      "345 2 [3, 5] 4 \n",
      "The original elements after deep copying\n",
      "11 22 [31, 5] 4341 "
     ]
    }
   ],
   "source": [
    "import copy\n",
    "l1 = [11, 22, [31,5], 4341]\n",
    "  \n",
    "l2 = copy.deepcopy(a)\n",
    "  \n",
    "print (\"The original elements before deep copying\")\n",
    "for i in range(len(l1)):\n",
    "    print (l1[i],end=\" \")\n",
    "  \n",
    "print()\n",
    "\n",
    "l2[0] = 345\n",
    "\n",
    "print (\"The new list of elements after deep copying \")\n",
    "for i in range(0,len(b)):\n",
    "    print (l2[i],end=\" \")\n",
    "  \n",
    "print()\n",
    "\n",
    "print (\"The original elements after deep copying\")\n",
    "for i in range(0,len(l1)):\n",
    "    print (l1[i],end=\" \")"
   ]
  },
  {
   "cell_type": "code",
   "execution_count": null,
   "id": "e84cf9f3",
   "metadata": {},
   "outputs": [],
   "source": []
  }
 ],
 "metadata": {
  "kernelspec": {
   "display_name": "Python 3 (ipykernel)",
   "language": "python",
   "name": "python3"
  },
  "language_info": {
   "codemirror_mode": {
    "name": "ipython",
    "version": 3
   },
   "file_extension": ".py",
   "mimetype": "text/x-python",
   "name": "python",
   "nbconvert_exporter": "python",
   "pygments_lexer": "ipython3",
   "version": "3.9.12"
  }
 },
 "nbformat": 4,
 "nbformat_minor": 5
}
