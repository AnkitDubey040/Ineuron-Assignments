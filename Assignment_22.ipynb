{
 "cells": [
  {
   "cell_type": "markdown",
   "id": "78befe66",
   "metadata": {},
   "source": [
    "### Python Basics : Assignment - 22\n"
   ]
  },
  {
   "cell_type": "markdown",
   "id": "d052351b",
   "metadata": {},
   "source": [
    "### Question 1 : What is the result of the code, and explain?\n"
   ]
  },
  {
   "cell_type": "code",
   "execution_count": 1,
   "id": "1e11f518",
   "metadata": {},
   "outputs": [
    {
     "name": "stdout",
     "output_type": "stream",
     "text": [
      "iNeuron\n"
     ]
    }
   ],
   "source": [
    "X = 'iNeuron'\n",
    "def func():\n",
    "    print(X)\n",
    "\n",
    "func()"
   ]
  },
  {
   "cell_type": "code",
   "execution_count": 2,
   "id": "3613a300",
   "metadata": {},
   "outputs": [
    {
     "data": {
      "text/plain": [
       "'\\nThe above code call the function func() which will print the value of X.\\n'"
      ]
     },
     "execution_count": 2,
     "metadata": {},
     "output_type": "execute_result"
    }
   ],
   "source": [
    "# Answer : \n",
    "\"\"\"\n",
    "The above code call the function func() which will print the value of X.\n",
    "\"\"\""
   ]
  },
  {
   "cell_type": "markdown",
   "id": "fb2f2bf9",
   "metadata": {},
   "source": [
    "### Question 2 : What is the result of the code, and explain?\n",
    "    >>> X = 'iNeuron'\n",
    "    >>> def func():\n",
    "    X = 'NI!'\n",
    "    >>> func()\n",
    "    >>> print(X)\n"
   ]
  },
  {
   "cell_type": "code",
   "execution_count": 3,
   "id": "756f6a66",
   "metadata": {},
   "outputs": [
    {
     "name": "stdout",
     "output_type": "stream",
     "text": [
      "iNeuron\n"
     ]
    }
   ],
   "source": [
    "X = 'iNeuron'\n",
    "\n",
    "def func():\n",
    "    X = 'NI'\n",
    "\n",
    "func()\n",
    "print(X)"
   ]
  },
  {
   "cell_type": "code",
   "execution_count": 4,
   "id": "bf32830c",
   "metadata": {},
   "outputs": [
    {
     "data": {
      "text/plain": [
       "'\\nThe above code will return the initial value of X as X here is Global variable, whereas inside the function\\nX is a Local variable. So the valus of X Local variable will not be stored outside the function. Therefor, when\\nprint(X) is called it will return value of Global Variable X.\\n'"
      ]
     },
     "execution_count": 4,
     "metadata": {},
     "output_type": "execute_result"
    }
   ],
   "source": [
    "# Answer : \n",
    "\n",
    "\"\"\"\n",
    "The above code will return the initial value of X as X here is Global variable, whereas inside the function\n",
    "X is a Local variable. So the valus of X Local variable will not be stored outside the function. Therefor, when\n",
    "print(X) is called it will return value of Global Variable X.\n",
    "\"\"\"\n"
   ]
  },
  {
   "cell_type": "markdown",
   "id": "ad256649",
   "metadata": {},
   "source": [
    "### Question 3 : What does this code print, and why?\n",
    "    >>> X = 'iNeuron'\n",
    "    >>> def func():\n",
    "        X = 'NI'\n",
    "        print(X)\n",
    "    >>> func()\n",
    "    >>> print(X)"
   ]
  },
  {
   "cell_type": "code",
   "execution_count": 5,
   "id": "ed504d73",
   "metadata": {},
   "outputs": [
    {
     "name": "stdout",
     "output_type": "stream",
     "text": [
      "NI\n",
      "iNeuron\n"
     ]
    }
   ],
   "source": [
    "X = 'iNeuron'\n",
    "def func():\n",
    "    X = 'NI'\n",
    "    print(X)\n",
    "func()\n",
    "print(X)"
   ]
  },
  {
   "cell_type": "code",
   "execution_count": 6,
   "id": "52edc389",
   "metadata": {},
   "outputs": [
    {
     "data": {
      "text/plain": [
       "'\\nHere, the function will print the value of local variable X  when the function func() is called.\\nand print(X) will print value of X which is defined outside function.\\n'"
      ]
     },
     "execution_count": 6,
     "metadata": {},
     "output_type": "execute_result"
    }
   ],
   "source": [
    "# Answer :\n",
    "\"\"\"\n",
    "Here, the function will print the value of local variable X  when the function func() is called.\n",
    "and print(X) will print value of X which is defined outside function.\n",
    "\"\"\""
   ]
  },
  {
   "cell_type": "markdown",
   "id": "331fb561",
   "metadata": {},
   "source": [
    "### Question 4 : What output does this code produce? Why?\n",
    "    >>> X = 'iNeuron'\n",
    "    >>> def func():\n",
    "    global X\n",
    "    X = 'NI'\n",
    "    >>> func()\n",
    "    >>> print(X)"
   ]
  },
  {
   "cell_type": "code",
   "execution_count": 7,
   "id": "3653d176",
   "metadata": {},
   "outputs": [
    {
     "name": "stdout",
     "output_type": "stream",
     "text": [
      "NI\n"
     ]
    }
   ],
   "source": [
    "X = 'iNeuron'\n",
    "\n",
    "def func():\n",
    "    global X\n",
    "    X = 'NI'\n",
    "func()\n",
    "print(X)"
   ]
  },
  {
   "cell_type": "code",
   "execution_count": 8,
   "id": "e4efcfea",
   "metadata": {},
   "outputs": [
    {
     "data": {
      "text/plain": [
       "'\\nIn the above code, inside the function we are calling the global variable X and further assigning new value to it.\\nSo when we call the function the value of X is changed as per the defined function. \\n'"
      ]
     },
     "execution_count": 8,
     "metadata": {},
     "output_type": "execute_result"
    }
   ],
   "source": [
    "# Answer : \n",
    "\"\"\"\n",
    "In the above code, inside the function we are calling the global variable X and further assigning new value to it.\n",
    "So when we call the function the value of X is changed as per the defined function. \n",
    "\"\"\""
   ]
  },
  {
   "cell_type": "markdown",
   "id": "46f55204",
   "metadata": {},
   "source": [
    "### Question 5 : What about this code—what’s the output, and why?\n",
    "    >>> X = 'iNeuron'\n",
    "    >>> def func():\n",
    "    X = 'NI'\n",
    "    def nested():\n",
    "    print(X)\n",
    "    nested()\n",
    "    >>> func()\n",
    "    >>> X\n"
   ]
  },
  {
   "cell_type": "code",
   "execution_count": 9,
   "id": "8c24854b",
   "metadata": {},
   "outputs": [
    {
     "name": "stdout",
     "output_type": "stream",
     "text": [
      "NI\n"
     ]
    },
    {
     "data": {
      "text/plain": [
       "'iNeuron'"
      ]
     },
     "execution_count": 9,
     "metadata": {},
     "output_type": "execute_result"
    }
   ],
   "source": [
    "X = 'iNeuron'\n",
    "\n",
    "def func():\n",
    "    X = 'NI'\n",
    "    def nested():\n",
    "        print(X)\n",
    "    nested()\n",
    "func()\n",
    "X"
   ]
  },
  {
   "cell_type": "code",
   "execution_count": 10,
   "id": "26aeeedf",
   "metadata": {},
   "outputs": [
    {
     "data": {
      "text/plain": [
       "'\\nHere a nested function is being used, in parent function we are assigning value to local variable X and in \\nnested function we are printing the value of X. Hence we are getting two outputs of X.\\nOne is from inside the function and One from Global variable.\\n'"
      ]
     },
     "execution_count": 10,
     "metadata": {},
     "output_type": "execute_result"
    }
   ],
   "source": [
    "# Answer : \n",
    "\"\"\"\n",
    "Here a nested function is being used, in parent function we are assigning value to local variable X and in \n",
    "nested function we are printing the value of X. Hence we are getting two outputs of X.\n",
    "One is from inside the function and One from Global variable.\n",
    "\"\"\""
   ]
  },
  {
   "cell_type": "markdown",
   "id": "10bf4d46",
   "metadata": {},
   "source": [
    "### Question 6 : How about this code: what is its output in Python 3, and explain?\n",
    "\n",
    "\n",
    "    >>> def func():\n",
    "        X = 'NI'\n",
    "            def nested():\n",
    "                nonlocal X\n",
    "                X = 'Spam'\n",
    "        nested()\n",
    "        print(X)\n",
    "\n",
    "\n",
    "    >>> func()\n"
   ]
  },
  {
   "cell_type": "code",
   "execution_count": 11,
   "id": "569855f4",
   "metadata": {},
   "outputs": [
    {
     "name": "stdout",
     "output_type": "stream",
     "text": [
      "Spam\n"
     ]
    }
   ],
   "source": [
    "def func():\n",
    "    X = 'NI'\n",
    "    def nested():\n",
    "        nonlocal X\n",
    "        X = 'Spam'\n",
    "    nested()\n",
    "    print(X)\n",
    "func()\n"
   ]
  },
  {
   "cell_type": "code",
   "execution_count": 12,
   "id": "46ebffc7",
   "metadata": {},
   "outputs": [
    {
     "data": {
      "text/plain": [
       "'\\nIn the above function, we are declaring the X as nonlocal variable inside the nested function and assigning new value to \\nit. This is resulting in change of value of X in parent function from \\n'"
      ]
     },
     "execution_count": 12,
     "metadata": {},
     "output_type": "execute_result"
    }
   ],
   "source": [
    "# Answer : \n",
    "\"\"\"\n",
    "In the above function, we are declaring the X as nonlocal variable inside the nested function and assigning new value to \n",
    "it. This is resulting in change of value of X in parent function from \n",
    "\"\"\"\n"
   ]
  }
 ],
 "metadata": {
  "kernelspec": {
   "display_name": "Python 3 (ipykernel)",
   "language": "python",
   "name": "python3"
  },
  "language_info": {
   "codemirror_mode": {
    "name": "ipython",
    "version": 3
   },
   "file_extension": ".py",
   "mimetype": "text/x-python",
   "name": "python",
   "nbconvert_exporter": "python",
   "pygments_lexer": "ipython3",
   "version": "3.9.12"
  }
 },
 "nbformat": 4,
 "nbformat_minor": 5
}
