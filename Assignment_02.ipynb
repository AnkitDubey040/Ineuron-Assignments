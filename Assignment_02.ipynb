{
 "cells": [
  {
   "cell_type": "markdown",
   "id": "12e85593",
   "metadata": {},
   "source": [
    "ANS 1:\n",
    "The two values of Boolean data type are True and False. We write them in capitilize form i.e. first word capital and rest small as --> True  and False\n",
    "\n",
    "\n",
    "ANS 2:\n",
    "The three type of Boolean Operators are:\n",
    "1. or  : The expression returns True if any of the condition surrounding or are satisfied else returns False \n",
    "2. and : The expression returns True if all the conditions are True.\n",
    "3. not : It require one argument and returns negation of the argument i.e. Not True becomes false and vice versa \n",
    "\n",
    "\n",
    "ANS 3:\n",
    "Lets's say there are 3 variables A,B and C . For Boolean Data type True = 1 and False = 0\n",
    "The truth table for each type of operator is : \n",
    "\n",
    "1) AND operator-\n",
    "\n",
    "A  B  C   A or B or C\n",
    "0  0  0     False\n",
    "0  0  1     False\n",
    "0  1  0     False\n",
    "0  1  1     False\n",
    "1  0  0     False\n",
    "1  0  1     False\n",
    "1  1  0     False\n",
    "1  1  1     True\n",
    "2) OR operator-\n",
    "\n",
    "A  B  C   A or B or C\n",
    "0  0  0     False\n",
    "0  0  1     True\n",
    "0  1  0     True\n",
    "0  1  1     True\n",
    "1  0  0     True\n",
    "1  0  1     True\n",
    "1  1  0     True\n",
    "1  1  1     True\n",
    "\n",
    "3) NOT operator-\n",
    "\n",
    "A          not A\n",
    "True       False\n",
    "False      True\n",
    "\n",
    "\n",
    "\n",
    "ANS 4:\n",
    "(5 > 4) and (3 == 5)  ==>>> (True and False) ==>>> False\n",
    "not (5 > 4)     ==>>> (not(True))      ==>>> False\n",
    "(5 > 4) or (3 == 5)  ==>>> (True or False)  ==>>> True\n",
    "not ((5 > 4) or (3 == 5))  ==>>>(not(True) or False) ==>>> (False or False) ==>>> False\n",
    "(True and True) and (True == False) ==>>> (True and False) ==>> False\n",
    "(not False) or (not True)  ==>> (True or False) ==> True\n",
    "\n",
    "\n",
    "\n",
    "ANS 5:\n",
    "The 6 comparison operators are: \n",
    "(<)  less than\n",
    "(<=) less than or equals to\n",
    "(>)  greater than\n",
    "(>=) greater than or euqals to \n",
    "(==) equals to \n",
    "(!=) not equals to\n",
    "\n",
    "\n",
    "ANS 6:\n",
    "If in an expression there are Two equal to(==)  signs with the variable then it is an equal operator whereas assignment operator will have only one equal to sign(=) for example we have two variables a and b with different value so a==b will return True whereas a=b will change value of a equal to b. \n",
    "\n",
    "\n",
    "ANS 7:\n",
    "in given ques the three blocks are\n",
    "\n",
    "Block1: if spam == 10:\n",
    "        print('eggs')\n",
    "Block2: if spam > 5:\n",
    "        print('bacon')\n",
    "        else:\n",
    "        print('ham')\n",
    "Block3: print('spam')\n",
    "        print('spam')\n",
    "        \n",
    "  "
   ]
  },
  {
   "cell_type": "code",
   "execution_count": 5,
   "id": "b0094188",
   "metadata": {},
   "outputs": [
    {
     "name": "stdout",
     "output_type": "stream",
     "text": [
      "Hello\n",
      "Howdy\n",
      "Greetings\n"
     ]
    }
   ],
   "source": [
    "#ANS 8:\n",
    "def spam(s):\n",
    "    if s == 1:\n",
    "        print('Hello')\n",
    "    elif s == 2:\n",
    "        print('Howdy')\n",
    "    else:\n",
    "        print('Greetings')\n",
    "        \n",
    "spam(1) \n",
    "spam(2)\n",
    "spam(34563)"
   ]
  },
  {
   "cell_type": "markdown",
   "id": "73ee9810",
   "metadata": {},
   "source": [
    "ANS 9:\n",
    "To stop a program stuck in an endless loop wee press CTRL+C \n",
    "\n",
    "ANS 10:\n",
    "break - It is used to break the current loop and passes control to instruction after the loop \n",
    "continue - It is used to skip the execution of current iteration of loop and passes control to next iteration\n",
    "\n",
    "\n",
    "ANS 11:\n",
    "The range(10) calls range from 0 to 9 but it will not include 10.\n",
    "The range (0,10) explicitly tells the loop to start at 0 and ends at 10 excluding 10.\n",
    "The range(0,10,1) explicitly tells the loop to increase the variable by 1 on each iteration starting from 0 upto 9.\n"
   ]
  },
  {
   "cell_type": "code",
   "execution_count": 7,
   "id": "8a44b0e9",
   "metadata": {},
   "outputs": [
    {
     "name": "stdout",
     "output_type": "stream",
     "text": [
      "When For Loop is used: \n",
      "0\n",
      "1\n",
      "2\n",
      "3\n",
      "4\n",
      "5\n",
      "6\n",
      "7\n",
      "8\n",
      "9\n",
      "10\n"
     ]
    }
   ],
   "source": [
    "#ANS 12:\n",
    "print('When For Loop is used: ')\n",
    "for i in range(11):\n",
    "    print(i)"
   ]
  },
  {
   "cell_type": "code",
   "execution_count": 8,
   "id": "8afcb029",
   "metadata": {},
   "outputs": [
    {
     "name": "stdout",
     "output_type": "stream",
     "text": [
      "When While Loop is used: \n",
      "1\n",
      "2\n",
      "3\n",
      "4\n",
      "5\n",
      "6\n",
      "7\n",
      "8\n",
      "9\n",
      "10\n"
     ]
    }
   ],
   "source": [
    "print('When While Loop is used: ') \n",
    "i=1\n",
    "while i<=10:\n",
    "    print(i)\n",
    "    i+=1"
   ]
  },
  {
   "cell_type": "markdown",
   "id": "df5ff8e8",
   "metadata": {},
   "source": [
    "ANS 13:\n",
    "The function can be called using   spam.bacon()"
   ]
  }
 ],
 "metadata": {
  "kernelspec": {
   "display_name": "Python 3 (ipykernel)",
   "language": "python",
   "name": "python3"
  },
  "language_info": {
   "codemirror_mode": {
    "name": "ipython",
    "version": 3
   },
   "file_extension": ".py",
   "mimetype": "text/x-python",
   "name": "python",
   "nbconvert_exporter": "python",
   "pygments_lexer": "ipython3",
   "version": "3.9.12"
  }
 },
 "nbformat": 4,
 "nbformat_minor": 5
}
