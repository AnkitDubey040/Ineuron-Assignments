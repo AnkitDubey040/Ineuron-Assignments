{
 "cells": [
  {
   "cell_type": "markdown",
   "id": "e6d89053",
   "metadata": {},
   "source": [
    "#                                  Statistics Assignment -2\n",
    "\n",
    "1.\t__How can we figure out what the interquartile range is?__\n",
    "\n",
    "**Ans**:  The Interquartile Range (IQR) formula is a measure of the middle 50% of a data set. The fomula to calculate the IQR is  \n",
    "IQR = Upper Quartile -Lower Quartile  \n",
    "i.e. __IQR = Q1 - Q3__\n",
    "\n",
    "2.\t__What exactly is the value of the 5-number theory?__\n",
    "\n",
    "**Ans**:   A five-number summary is useful in descriptive analyses of a large data set. A summary consists of five values: the most extreme values in the data set (the maximum and minimum values), the lower and upper quartiles, and the median. These values are presented together and ordered from lowest to highest: minimum value, lower quartile (Q1), median value (Q2), upper quartile (Q3), maximum value.\n",
    "\n",
    "3.\t__What is the relationship between standard deviation and variance?__\n",
    "\n",
    "**Ans**: __Variance = (Standard Deviation)<sup>2</sup>__    ; Standard Deviation $\\ge$ 0\n",
    "\n",
    "4.\t__What does the difference between variance and standard deviation mean?__\n",
    "\n",
    "**Ans**: Variance can simply be defined as a measure of variability to represent members of a group. The variance measures the closeness of data points corresponding to a greater value of variance. Standard deviation, on the other hand, observes the quantifiable amount of dispersion of observations when approached with data. Therefore Variances describe the variability of the observed observations while standard deviation measures the dispersion of observations within a set.\n",
    "\n",
    "5.\t__When is it appropriate to refer to a skewed data distribution?__\n",
    "\n",
    "**Ans**:If one tail is longer than another, the distribution is skewed. These distributions are sometimes called asymmetric or asymmetrical distributions as they don’t show any kind of symmetry. Symmetry means that one half of the distribution is a mirror image of the other half. It is approproate to refer to a skewed distribution when the parameter used is __median__ as it is not affected by the skewness of the data.\n"
   ]
  }
 ],
 "metadata": {
  "kernelspec": {
   "display_name": "Python 3 (ipykernel)",
   "language": "python",
   "name": "python3"
  },
  "language_info": {
   "codemirror_mode": {
    "name": "ipython",
    "version": 3
   },
   "file_extension": ".py",
   "mimetype": "text/x-python",
   "name": "python",
   "nbconvert_exporter": "python",
   "pygments_lexer": "ipython3",
   "version": "3.9.12"
  }
 },
 "nbformat": 4,
 "nbformat_minor": 5
}
