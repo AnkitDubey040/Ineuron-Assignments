{
 "cells": [
  {
   "cell_type": "markdown",
   "id": "fa0e0160",
   "metadata": {},
   "source": [
    "#### 1. What does RGBA stand for?\n",
    "Ans:  \n",
    "RGBA is a four-channel format containing data for colors Red, Green, Blue, and an Alpha value. Where Alpha Represents the Opacity.  \n",
    "\n",
    "#### 2. From the Pillow module, how do you get the RGBA value of any images?  \n",
    "Ans:  \n",
    "ImageColor.getcolor() gives rgba value of any image.  \n",
    "\n",
    "#### 3. What is a box tuple, and how does it work?  \n",
    "Ans:  \n",
    "A box tuple is a tuple value of four integers: the left-edge x-coordinate, the top-edge y-coordinate,the width, and the height, respectively.  \n",
    "\n",
    "#### 4. Use your image and load in notebook then, How can you find out the width and height of an Image object?  \n",
    "Ans:  "
   ]
  },
  {
   "cell_type": "code",
   "execution_count": 9,
   "id": "a6a49e20",
   "metadata": {},
   "outputs": [
    {
     "name": "stdout",
     "output_type": "stream",
     "text": [
      "Width, Height -> (275, 183)\n",
      "Width, Height -> 275,183\n",
      "Width, Height -> 275,183\n"
     ]
    }
   ],
   "source": [
    "from PIL import Image\n",
    "path = \"jpg_9.jpg\"\n",
    "pic = Image.open(path)\n",
    "# Approach 1:  \n",
    "print(f'Width, Height -> {pic.size}') \n",
    "# Approach 2: \n",
    "print(f'Width, Height -> {pic.width},{pic.height}')\n",
    "width,height = pic.size\n",
    "# Approach 3:\n",
    "width = pic.width\n",
    "height = pic.height\n",
    "print(f'Width, Height -> {width},{height}') "
   ]
  },
  {
   "cell_type": "markdown",
   "id": "b79df065",
   "metadata": {},
   "source": [
    "#### 5. What method would you call to get Image object for a 100×100 image, excluding the lower-left quarter of it?  \n",
    "Ans:\n",
    "we will use crop() method to get Image object for a 100×100 image, excluding the lower-left quarter of it.  "
   ]
  },
  {
   "cell_type": "code",
   "execution_count": 10,
   "id": "df82d4a4",
   "metadata": {},
   "outputs": [],
   "source": [
    "from PIL import Image\n",
    "img = Image.open('jpg_9.jpg')\n",
    "new_img = img.crop((0,50,50,50))"
   ]
  },
  {
   "cell_type": "markdown",
   "id": "c0c705db",
   "metadata": {},
   "source": [
    "#### 6. After making changes to an Image object, how could you save it as an image file?  \n",
    "Ans:   "
   ]
  },
  {
   "cell_type": "code",
   "execution_count": 12,
   "id": "20ac84c0",
   "metadata": {},
   "outputs": [],
   "source": [
    "from PIL import Image\n",
    "pic = Image.open('jpg_9.jpg')\n",
    "pic.save('jpg_9_cropped.jpg')  "
   ]
  },
  {
   "cell_type": "markdown",
   "id": "4e3f950f",
   "metadata": {},
   "source": [
    "#### 7. What module contains Pillow’s shape-drawing code?\n",
    "Ans:  \n",
    "Pillow's ImageDraw module contains Shape drawing methods.  \n",
    "\n",
    "#### 8. Image objects do not have drawing methods. What kind of object does? How do you get this kind of object?\n",
    "Ans:  \n",
    "ImageDraw objects have shape-drawing methods such as point(), line(), or rectangle().They are returned by passing the Image object to the ImageDraw.Draw() function.  "
   ]
  }
 ],
 "metadata": {
  "kernelspec": {
   "display_name": "Python 3 (ipykernel)",
   "language": "python",
   "name": "python3"
  },
  "language_info": {
   "codemirror_mode": {
    "name": "ipython",
    "version": 3
   },
   "file_extension": ".py",
   "mimetype": "text/x-python",
   "name": "python",
   "nbconvert_exporter": "python",
   "pygments_lexer": "ipython3",
   "version": "3.9.12"
  }
 },
 "nbformat": 4,
 "nbformat_minor": 5
}
