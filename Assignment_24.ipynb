{
 "cells": [
  {
   "cell_type": "markdown",
   "id": "9f821a30",
   "metadata": {},
   "source": [
    "### Python Basics Assignment - 24"
   ]
  },
  {
   "cell_type": "markdown",
   "id": "7c4dd29d",
   "metadata": {},
   "source": [
    "### Question 1 : What is the relationship between def statements and lambda expressions ?"
   ]
  },
  {
   "cell_type": "markdown",
   "id": "1e3f04d8",
   "metadata": {},
   "source": [
    "Answer: \n",
    "\n",
    "1. Lambda is an expression also known as anonymous functions, which can be assigned to a variable and can be called \n",
    "   using the variable later in function.\n",
    "   \n",
    "2. Lambda's body is a single expression and not a block of statements like def statement.\n",
    "   The lambda's body is similar to what we'd put in a def body's return statement. We simply type the result as an\n",
    "   expression instead of explicitly returning it. Because it is limited to an expression, a lambda is less general \n",
    "   than a def statement. \n"
   ]
  },
  {
   "cell_type": "markdown",
   "id": "d9f443a8",
   "metadata": {},
   "source": [
    "### Question 2 : What is the benefit of lambda?"
   ]
  },
  {
   "cell_type": "markdown",
   "id": "2f6c6eda",
   "metadata": {},
   "source": [
    "Answer: \n",
    "1. one line of Code.\n",
    "2. Can be used easily by calling the variable."
   ]
  },
  {
   "cell_type": "markdown",
   "id": "1e30535c",
   "metadata": {},
   "source": [
    "### Question 3 : Compare and contrast map, filter, and reduce."
   ]
  },
  {
   "cell_type": "markdown",
   "id": "77a995c7",
   "metadata": {},
   "source": [
    "Answer: \n",
    "The map() function: The map() function is a type of higher-order. This function takes another function as a parameter\n",
    "along with a sequence of iterables and returns an output after applying the function to each iterable present in the\n",
    "sequence. \n",
    "\n",
    "The filter() function: The filter() function is used to create an output list consisting of values for which the \n",
    "function returns true.\n",
    "\n",
    "The reduce() function: The reduce() function, as the name describes, applies a given function to the iterables and \n",
    "returns a single value."
   ]
  },
  {
   "cell_type": "markdown",
   "id": "2fdb9392",
   "metadata": {},
   "source": [
    "### Question 4 : What are function annotations, and how are they used?"
   ]
  },
  {
   "cell_type": "markdown",
   "id": "18051db8",
   "metadata": {},
   "source": [
    "Answer:\n",
    "Function annotations provide a way of associating various parts of a function with arbitrary python\n",
    "expressions at compile time. \n",
    "\n",
    "Annotations of simple parameters\n",
    "\n",
    "def func(x: expression, y: expression = 20):\n",
    "\n",
    "\n",
    "Whereas the annotations for excess parameters are as −\n",
    "\n",
    "def func (**args: expression, **kwargs: expression):\n",
    "    \n",
    "    "
   ]
  },
  {
   "cell_type": "markdown",
   "id": "0cb5c237",
   "metadata": {},
   "source": [
    "### Question 5 : What are recursive functions, and how are they used?"
   ]
  },
  {
   "cell_type": "markdown",
   "id": "62724157",
   "metadata": {},
   "source": [
    "Answer: \n",
    "A recursive function is a function that calls itself during its execution. The process may repeat several times, \n",
    "outputting the result and the end of each iteration. \n"
   ]
  },
  {
   "cell_type": "markdown",
   "id": "4b0c5584",
   "metadata": {},
   "source": [
    "### Question 6 : What are some general design guidelines for coding functions?"
   ]
  },
  {
   "cell_type": "markdown",
   "id": "4c29cffc",
   "metadata": {},
   "source": [
    "Answer : Following are few general guidelines for coding functions:\n",
    "1. Limited use of globals\n",
    "\n",
    "2. Standard headers for different modules.\n",
    "\n",
    "3. Naming conventions for local variables, global variables, constants and functions:\n",
    "    Some of the naming conventions are given below:\n",
    "    - Meaningful and understandable variables name helps anyone to understand the reason of using it.\n",
    "    \n",
    "    - Local variables should be named using camel case lettering starting with small letter (e.g. localData) whereas \n",
    "    Global variables names should start with a capital letter (e.g. GlobalData). Constant names should be formed using capital letters only (e.g. CONSDATA).\n",
    "    \n",
    "    - It is better to avoid the use of digits in variable names.\n",
    "    \n",
    "    - The names of the function should be written in camel case starting with small letters.\n",
    "    \n",
    "    - The name of the function must describe the reason of using the function clearly and briefly.\n",
    "    \n",
    "    \n",
    "4. Proper indentation is very important to increase the readability of the code. "
   ]
  },
  {
   "cell_type": "markdown",
   "id": "6e56cba3",
   "metadata": {},
   "source": [
    "### Question 7 : Name three or more ways that functions can communicate results to a caller."
   ]
  },
  {
   "cell_type": "markdown",
   "id": "4bf9debd",
   "metadata": {},
   "source": [
    "Answer :\n",
    "print()  \n",
    "return  \n",
    "yield   "
   ]
  }
 ],
 "metadata": {
  "kernelspec": {
   "display_name": "Python 3 (ipykernel)",
   "language": "python",
   "name": "python3"
  },
  "language_info": {
   "codemirror_mode": {
    "name": "ipython",
    "version": 3
   },
   "file_extension": ".py",
   "mimetype": "text/x-python",
   "name": "python",
   "nbconvert_exporter": "python",
   "pygments_lexer": "ipython3",
   "version": "3.9.12"
  }
 },
 "nbformat": 4,
 "nbformat_minor": 5
}
