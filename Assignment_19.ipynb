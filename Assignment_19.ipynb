{
 "cells": [
  {
   "cell_type": "markdown",
   "id": "099e95f1",
   "metadata": {},
   "source": [
    "### Python Basics : Assignment - 19"
   ]
  },
  {
   "cell_type": "markdown",
   "id": "1f51268c",
   "metadata": {},
   "source": [
    "### Question 1 : Make a class called Thing with no contents and print it. Then, create an object called example from this class and also print it. Are the printed values the same or different?"
   ]
  },
  {
   "cell_type": "code",
   "execution_count": 1,
   "id": "1e4101a1",
   "metadata": {},
   "outputs": [
    {
     "name": "stdout",
     "output_type": "stream",
     "text": [
      "<class '__main__.Thing'>\n",
      "<__main__.Thing object at 0x000001DCE90563A0>\n"
     ]
    }
   ],
   "source": [
    "# Answer : \n",
    "class Thing:\n",
    "    pass\n",
    "\n",
    "print(Thing)\n",
    "\n",
    "example = Thing()\n",
    "\n",
    "print(example)\n"
   ]
  },
  {
   "cell_type": "markdown",
   "id": "5c5e844c",
   "metadata": {},
   "source": [
    "The Printed Values are clearly different"
   ]
  },
  {
   "cell_type": "markdown",
   "id": "297eed45",
   "metadata": {},
   "source": [
    "### Question 2 : Create a new class called Thing2 and add the value 'abc' to the letters class attribute. Letters should be printed."
   ]
  },
  {
   "cell_type": "code",
   "execution_count": 2,
   "id": "5e2565f9",
   "metadata": {},
   "outputs": [
    {
     "name": "stdout",
     "output_type": "stream",
     "text": [
      "abc\n"
     ]
    }
   ],
   "source": [
    "# Answer : \n",
    "class Thing2:\n",
    "    letters = 'abc'\n",
    "    \n",
    "print(Thing2.letters)"
   ]
  },
  {
   "cell_type": "markdown",
   "id": "1f32c438",
   "metadata": {},
   "source": [
    "### Question 3 : Make yet another class called, of course, Thing3. This time, assign the value 'xyz' to an instance (object) attribute called letters. Print letters. Do you need to make an object from the class to do this?"
   ]
  },
  {
   "cell_type": "code",
   "execution_count": 8,
   "id": "256945e5",
   "metadata": {},
   "outputs": [],
   "source": [
    "# Answer : \n",
    "class Thing3:\n",
    "    \n",
    "    def __init__(self):\n",
    "        self.letters = 'xyz'"
   ]
  },
  {
   "cell_type": "code",
   "execution_count": 9,
   "id": "48f2a88f",
   "metadata": {},
   "outputs": [
    {
     "ename": "AttributeError",
     "evalue": "type object 'Thing3' has no attribute 'letters'",
     "output_type": "error",
     "traceback": [
      "\u001b[1;31m---------------------------------------------------------------------------\u001b[0m",
      "\u001b[1;31mAttributeError\u001b[0m                            Traceback (most recent call last)",
      "Input \u001b[1;32mIn [9]\u001b[0m, in \u001b[0;36m<cell line: 1>\u001b[1;34m()\u001b[0m\n\u001b[1;32m----> 1\u001b[0m \u001b[38;5;28mprint\u001b[39m(\u001b[43mThing3\u001b[49m\u001b[38;5;241;43m.\u001b[39;49m\u001b[43mletters\u001b[49m)\n",
      "\u001b[1;31mAttributeError\u001b[0m: type object 'Thing3' has no attribute 'letters'"
     ]
    }
   ],
   "source": [
    "print(Thing3.letters)"
   ]
  },
  {
   "cell_type": "code",
   "execution_count": 10,
   "id": "53de5329",
   "metadata": {},
   "outputs": [
    {
     "name": "stdout",
     "output_type": "stream",
     "text": [
      "xyz\n"
     ]
    }
   ],
   "source": [
    "obj = Thing3()\n",
    "print(obj.letters)"
   ]
  },
  {
   "cell_type": "markdown",
   "id": "ab96aed3",
   "metadata": {},
   "source": [
    "Yes we need to make an object."
   ]
  },
  {
   "cell_type": "markdown",
   "id": "19185fbd",
   "metadata": {},
   "source": [
    "\n",
    "### Question 4 : Create an Element class with the instance attributes name, symbol, and number. Create a class object with the values 'Hydrogen,' 'H,' and 1."
   ]
  },
  {
   "cell_type": "code",
   "execution_count": 11,
   "id": "118fccc6",
   "metadata": {},
   "outputs": [],
   "source": [
    "# Answer : \n",
    "\n",
    "class Element:\n",
    "    \n",
    "    def __init__(self, name, symbol, number):\n",
    "        self.name = name\n",
    "        self.symbol = symbol\n",
    "        self.number = number\n",
    "        \n",
    "        \n",
    "obj1 = Element(\"Hydrogen\", \"H\", 1)\n"
   ]
  },
  {
   "cell_type": "code",
   "execution_count": 21,
   "id": "6e65b867",
   "metadata": {},
   "outputs": [
    {
     "name": "stdout",
     "output_type": "stream",
     "text": [
      "Name : Hydrogen, Symbol : H, Number : 1\n"
     ]
    }
   ],
   "source": [
    "print(f\"Name : {obj1.name}, Symbol : {obj1.symbol}, Number : {obj1.number}\")"
   ]
  },
  {
   "cell_type": "markdown",
   "id": "fc4bcbc0",
   "metadata": {},
   "source": [
    "### Question 5 : Make a dictionary with these keys and values: 'name': 'Hydrogen', 'symbol': 'H', 'number': 1. Then, create an object called hydrogen from class Element using this dictionary."
   ]
  },
  {
   "cell_type": "code",
   "execution_count": 22,
   "id": "5a722c06",
   "metadata": {},
   "outputs": [
    {
     "name": "stdout",
     "output_type": "stream",
     "text": [
      "Name : Hydrogen, Symbol : H, Number : 1\n"
     ]
    }
   ],
   "source": [
    "# Answer:\n",
    "elements = {'name': 'Hydrogen', 'symbol': 'H', 'number': 1}\n",
    "\n",
    "hydrogen = Element(elements['name'], elements['symbol'], elements['number'])\n",
    "print(f\"Name : {hydrogen.name}, Symbol : {hydrogen.symbol}, Number : {hydrogen.number}\")"
   ]
  },
  {
   "cell_type": "code",
   "execution_count": 24,
   "id": "79decefe",
   "metadata": {},
   "outputs": [
    {
     "name": "stdout",
     "output_type": "stream",
     "text": [
      "Name : Hydrogen, Symbol : H, Number : 1\n"
     ]
    }
   ],
   "source": [
    "# Above can also be done as :\n",
    "\n",
    "hydrogen = Element(**elements)\n",
    "print(f\"Name : {hydrogen.name}, Symbol : {hydrogen.symbol}, Number : {hydrogen.number}\")"
   ]
  },
  {
   "cell_type": "markdown",
   "id": "304d1ee2",
   "metadata": {},
   "source": [
    "### Question 6 : For the Element class, define a method called dump() that prints the values of the object’s attributes (name, symbol, and number). Create the hydrogen object from this new definition and use dump() to print its attributes."
   ]
  },
  {
   "cell_type": "code",
   "execution_count": 25,
   "id": "c822304b",
   "metadata": {},
   "outputs": [
    {
     "name": "stdout",
     "output_type": "stream",
     "text": [
      "Name : Hydrogen, Symbol : H, Number : 1\n"
     ]
    }
   ],
   "source": [
    "# Answer:\n",
    "class Element:\n",
    "    \n",
    "    def __init__(self, name, symbol, number):\n",
    "        self.name = name\n",
    "        self.symbol = symbol\n",
    "        self.number = number\n",
    "        \n",
    "    def dump(self):\n",
    "        print(f\"Name : {hydrogen.name}, Symbol : {hydrogen.symbol}, Number : {hydrogen.number}\")\n",
    "        \n",
    "hydrogen = Element(**elements)\n",
    "hydrogen.dump()"
   ]
  },
  {
   "cell_type": "markdown",
   "id": "f4ab9150",
   "metadata": {},
   "source": [
    "### Question 7 : Call print(hydrogen). In the definition of Element, change the name of method dump to \\__str__\\, create a new hydrogen object, and call print(hydrogen) again."
   ]
  },
  {
   "cell_type": "code",
   "execution_count": 26,
   "id": "c910be38",
   "metadata": {},
   "outputs": [
    {
     "name": "stdout",
     "output_type": "stream",
     "text": [
      "<__main__.Element object at 0x000001DCEA291340>\n",
      "\n",
      " Name : Hydrogen, Symbol : H, Number : 1\n"
     ]
    }
   ],
   "source": [
    "print(hydrogen)\n",
    "\n",
    "class Element:\n",
    "    \n",
    "    def __init__(self, name, symbol, number):\n",
    "        self.name = name\n",
    "        self.symbol = symbol\n",
    "        self.number = number\n",
    "        \n",
    "    def __str__(self):\n",
    "        return (f\"Name : {hydrogen.name}, Symbol : {hydrogen.symbol}, Number : {hydrogen.number}\")\n",
    "        \n",
    "hydrogen = Element(**elements)\n",
    "print(\"\\n\",hydrogen)"
   ]
  },
  {
   "cell_type": "markdown",
   "id": "f30562b8",
   "metadata": {},
   "source": [
    "### Question 8 : Modify Element to make the attributes name, symbol, and number private. Define a getter property for each to return its value."
   ]
  },
  {
   "cell_type": "code",
   "execution_count": 28,
   "id": "ec321bb7",
   "metadata": {},
   "outputs": [
    {
     "data": {
      "text/plain": [
       "'H'"
      ]
     },
     "execution_count": 28,
     "metadata": {},
     "output_type": "execute_result"
    }
   ],
   "source": [
    "# Answer : \n",
    "class Element:\n",
    "    \n",
    "    def __init__(self, name, symbol, number):\n",
    "        self.__name = name\n",
    "        self.__symbol = symbol\n",
    "        self.__number = number\n",
    "        \n",
    "    @property\n",
    "    def name(self):\n",
    "        return self.__name\n",
    "    \n",
    "    @property\n",
    "    def symbol(self):\n",
    "        return self.__symbol\n",
    "    \n",
    "    @property\n",
    "    def number(self):\n",
    "        return self.__number\n",
    "    \n",
    "hydrogen = Element(**elements)\n",
    "hydrogen.symbol"
   ]
  },
  {
   "cell_type": "markdown",
   "id": "e0d265de",
   "metadata": {},
   "source": [
    "### Question 9 : Define three classes: Bear, Rabbit, and Octothorpe. For each, define only one method: eats(). This should return 'berries' (Bear), 'clover' (Rabbit), or 'campers' (Octothorpe). Create one object from each and print what it eats."
   ]
  },
  {
   "cell_type": "code",
   "execution_count": 29,
   "id": "d43684ae",
   "metadata": {},
   "outputs": [
    {
     "name": "stdout",
     "output_type": "stream",
     "text": [
      "berries\n",
      "clover\n",
      "campers\n"
     ]
    }
   ],
   "source": [
    "class Bears:\n",
    "    def eats(self):\n",
    "        return 'berries'\n",
    "    \n",
    "class Rabbit:\n",
    "    def eats(self):\n",
    "        return 'clover'\n",
    "    \n",
    "class Octothorpe:\n",
    "    def eats(self):\n",
    "        return 'campers'\n",
    "    \n",
    "    \n",
    "ob1 = Bears()\n",
    "ob2 = Rabbit()\n",
    "ob3 = Octothorpe()\n",
    "\n",
    "print(ob1.eats())\n",
    "print(ob2.eats())\n",
    "print(ob3.eats())\n"
   ]
  },
  {
   "cell_type": "markdown",
   "id": "d18c1dbf",
   "metadata": {},
   "source": [
    "### Question 10 : Define these classes: Laser, Claw, and SmartPhone. Each has only one method: does(). This returns 'disintegrate' (Laser), 'crush' (Claw), or 'ring' (SmartPhone). Then, define the class Robot that has one instance (object) of each of these. Define a does() method for the Robot that prints what its component objects do."
   ]
  },
  {
   "cell_type": "code",
   "execution_count": 33,
   "id": "2af97497",
   "metadata": {},
   "outputs": [
    {
     "data": {
      "text/plain": [
       "'Robot Components : Laser : disintegrate, Claw : crush, Smart Phone : ring'"
      ]
     },
     "execution_count": 33,
     "metadata": {},
     "output_type": "execute_result"
    }
   ],
   "source": [
    "class Laser:\n",
    "    def does(self):\n",
    "        return 'disintegrate'\n",
    "\n",
    "class Claw:\n",
    "    def does(self):\n",
    "        return 'crush'\n",
    "    \n",
    "class SmartPhone:\n",
    "    def does(self):\n",
    "        return 'ring'\n",
    "    \n",
    "    \n",
    "class Robot:\n",
    "    \n",
    "    def __init__(self):\n",
    "        self.laser = Laser()\n",
    "        self.claw = Claw()\n",
    "        self.smartphone = SmartPhone()\n",
    "        \n",
    "    def does(self):\n",
    "        return (f\"\"\"Robot Components : Laser : {self.laser.does()}, Claw : {self.claw.does()}, Smart Phone : {self.smartphone.does()}\"\"\")\n",
    "    \n",
    "    \n",
    "    \n",
    "robocop = Robot()\n",
    "robocop.does()"
   ]
  }
 ],
 "metadata": {
  "kernelspec": {
   "display_name": "Python 3 (ipykernel)",
   "language": "python",
   "name": "python3"
  },
  "language_info": {
   "codemirror_mode": {
    "name": "ipython",
    "version": 3
   },
   "file_extension": ".py",
   "mimetype": "text/x-python",
   "name": "python",
   "nbconvert_exporter": "python",
   "pygments_lexer": "ipython3",
   "version": "3.9.12"
  }
 },
 "nbformat": 4,
 "nbformat_minor": 5
}
