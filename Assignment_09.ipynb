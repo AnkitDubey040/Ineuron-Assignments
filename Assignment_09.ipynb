{
 "cells": [
  {
   "cell_type": "markdown",
   "id": "2de47ab2",
   "metadata": {},
   "source": [
    "#### 1. To what does a relative path refer?\n",
    "ANS:  \n",
    "The relative path is the path to some file with respect to our Current/Present Working Directory (PWD).  \n",
    "For example: if Absolute path to a file called test.txt is: C:/users/abc/docs/test.txt  \n",
    "If my PWD is C:/users/abc/ , then the relative path to test.txt would be: docs/test.txt  \n",
    "\n",
    "#### 2. What does an absolute path start with your operating system?\n",
    "ANS:  \n",
    "In Linux based systems the absolute path starts with /. Whereas in Windows based systems absolute path starts with a drive like C:\\  \n",
    "\n",
    "#### 3. What do the functions os.getcwd() and os.chdir() do?  \n",
    "ANS:   \n",
    "os.getcwd() method tells us the location of current working directory (CWD). Whereas os.chdir() method in Python used to change the current working directory to specified path. These functions are similar to linux commands pwd and cd.  \n",
    "\n",
    "#### 4. What are the . and .. folders?\n",
    "ANS:  \n",
    ". Represents the Current Directory, whereas .. Represents the Parent Directory of the Current Directory.    \n",
    "For Example: if the below path is my absolute path:    \n",
    "F:\\INeuron_FSDS\\Python\\Python Basic    \n",
    "Then . represents the path F:\\INeuron_FSDS\\Python\\Python Basic    \n",
    "Whereas .. represents the path F:\\INeuron_FSDS\\Python  \n",
    "\n",
    "#### 5. In C:\\bacon\\eggs\\spam.txt, which part is the dir name, and which part is the base name?  \n",
    "ANS:  \n",
    "The dir name is C:\\bacon\\eggs  \n",
    "The Base name is spam.txt  \n",
    "\n",
    "#### 6. What are the three “mode” arguments that can be passed to the open() function?  \n",
    "ANS:  \n",
    "A file can be Accessed in python using open() function. The three modes of open() function are:  \n",
    "‘r’ – Read Mode: This is the default mode for open(). The file is opened and a pointer is positioned at the beginning of the file’s content. This mode is used to read the content of the file.  \n",
    "‘w’ – Write Mode: Using this mode will overwrite any existing content in a file. If the given file does not exist, a new one will be created.  \n",
    "‘a’ – Append Mode: With this mode the user can append the data without overwriting already existing data in the file.  \n",
    "\n",
    "#### 7. What happens if an existing file is opened in write mode?  \n",
    "ANS:  \n",
    "Using this mode will overwrite any existing content in a file. If the given file does not exist, a new one will be created.  \n",
    "#### 8. How do you tell the difference between read() and readlines()?  \n",
    "ANS:  \n",
    "The main difference is that read() will read the whole file at once and then print out the first characters that take up as many bytes as specified in the parenthesis, Whereas the readline() that will read and print out only the first characters that take up as many bytes as specified in the parenthesis. We may want to use readline() when we're reading files that are too big for our RAM.  \n",
    "The read() would treat each character in the file separately, meaning that the iteration would happen for every character.\n",
    "The readline() function, on the other hand, only reads a single line of the file. This means that if the first line of the file were three lines long, the readline() function would only parse (or iterate/operate) on the first line of the file.  \n",
    "\n",
    "#### 9. What data structure does a shelf value resemble?  \n",
    "ANS:  \n",
    "A shelf value resembles a dictionary value, it has keys and values, along with keys() and values() methods that work similarly to the dictionary methods of the same names. \n"
   ]
  }
 ],
 "metadata": {
  "kernelspec": {
   "display_name": "Python 3 (ipykernel)",
   "language": "python",
   "name": "python3"
  },
  "language_info": {
   "codemirror_mode": {
    "name": "ipython",
    "version": 3
   },
   "file_extension": ".py",
   "mimetype": "text/x-python",
   "name": "python",
   "nbconvert_exporter": "python",
   "pygments_lexer": "ipython3",
   "version": "3.9.12"
  }
 },
 "nbformat": 4,
 "nbformat_minor": 5
}
