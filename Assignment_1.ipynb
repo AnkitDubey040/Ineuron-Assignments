{
 "cells": [
  {
   "cell_type": "markdown",
   "id": "75eee3d9",
   "metadata": {},
   "source": [
    "Ans1:\n",
    "1. (*) is an expression and denotes multiplication\n",
    "2. ('hello') is a value (string)\n",
    "3. (-87.8) is a value(integer)\n",
    "4. (-) is an expression used for subtraction\n",
    "5. (/) is an expression used for division\n",
    "6. (+) is an expression used for addition\n",
    "7. (6) is a value(integer)"
   ]
  },
  {
   "cell_type": "markdown",
   "id": "970d5562",
   "metadata": {},
   "source": [
    "Ans2:\n",
    "A variable is something that stores data or value for example:\n",
    "if i write a=234 then a is variable and 234 is its valur or andy=\"ineuron\" here andy is variable and 'ineuron is it's value.\n",
    "A string is type of info or value that we store in a variable. String is a sequence of characters that is usually written inside single or double quotes.\n",
    "for example:\n",
    "str = \"ineuron\" here ineuron is a string of variable str."
   ]
  },
  {
   "cell_type": "markdown",
   "id": "7499b9da",
   "metadata": {},
   "source": [
    "Ans3:\n",
    "1.Integer data type (int): It contains integer values i.e. positive and negattive whole numbers with no fraction or decimal\n",
    "for example: num= 2342432  here  variable num has integer value."
   ]
  },
  {
   "cell_type": "code",
   "execution_count": 19,
   "id": "d130e1ec",
   "metadata": {},
   "outputs": [
    {
     "data": {
      "text/plain": [
       "int"
      ]
     },
     "execution_count": 19,
     "metadata": {},
     "output_type": "execute_result"
    }
   ],
   "source": [
    "a=2342432\n",
    "type(a)"
   ]
  },
  {
   "cell_type": "markdown",
   "id": "62d91b56",
   "metadata": {},
   "source": [
    "2.String data Type(str): It contain sequence of characters that can be numbers or alphabets or both mixed provided they \n",
    "  are assigned inside single quotes( ' ') or double quotes(\" \")"
   ]
  },
  {
   "cell_type": "code",
   "execution_count": 20,
   "id": "7a891dae",
   "metadata": {},
   "outputs": [
    {
     "data": {
      "text/plain": [
       "str"
      ]
     },
     "execution_count": 20,
     "metadata": {},
     "output_type": "execute_result"
    }
   ],
   "source": [
    "#for example:\n",
    "str = \"ineuron\" #here variable str has string data type\n",
    "type(str)"
   ]
  },
  {
   "cell_type": "markdown",
   "id": "e3a209fa",
   "metadata": {},
   "source": [
    "3.List data type (list): It is an ordered collection of items or data. Just like an array we can store any type of data inside a list . it is assigned between Square brackets ([ ]) and items in list are seperated by comma."
   ]
  },
  {
   "cell_type": "code",
   "execution_count": 21,
   "id": "158e9bb5",
   "metadata": {},
   "outputs": [
    {
     "data": {
      "text/plain": [
       "list"
      ]
     },
     "execution_count": 21,
     "metadata": {},
     "output_type": "execute_result"
    }
   ],
   "source": [
    "# for example:\n",
    "l=[\"ineuron\" ,213,'azdsf',3.2133]\n",
    "type(l)"
   ]
  },
  {
   "cell_type": "code",
   "execution_count": 22,
   "id": "d5d701b6",
   "metadata": {},
   "outputs": [
    {
     "name": "stdout",
     "output_type": "stream",
     "text": [
      "50\n"
     ]
    }
   ],
   "source": [
    "'''\n",
    "Ans4:\n",
    "An expression is combo of values,variables and operators. They are used to evaluate a single value of a variable by calculating them using \n",
    "other variable,values and operating them with operators(+,-,/,*,%,**). for example : '''\n",
    "a=20\n",
    "b=30\n",
    "c=a+b #expression\n",
    "print(c)"
   ]
  },
  {
   "cell_type": "markdown",
   "id": "7114bf40",
   "metadata": {},
   "source": [
    "Ans5:\n",
    "A statement is a code that has an effect like assigning value to variable,creating and displaying variable, it does not perform any calculation whereas \n",
    "an expression evaluates value of a variable using combination of operators and operands and produces the result value, an expression is also a statement that evalates a value.\n",
    "Here spam = 10 is a stantement as we are assigning a value to a variable and not performing any calculation here. "
   ]
  },
  {
   "cell_type": "markdown",
   "id": "d960e1df",
   "metadata": {},
   "source": [
    "Ans6:\n",
    "bacon =22\n",
    "bacon +1\n",
    "Here the variable bacon still has value 22 as we have not assigned any value to bacon we have just calculated bacon +1 i.e 23 but original value of bacon is still 22"
   ]
  },
  {
   "cell_type": "code",
   "execution_count": 23,
   "id": "39b26169",
   "metadata": {},
   "outputs": [
    {
     "data": {
      "text/plain": [
       "'spamspamspam'"
      ]
     },
     "execution_count": 23,
     "metadata": {},
     "output_type": "execute_result"
    }
   ],
   "source": [
    "'''Ans7:'''\n",
    "'spam'+'spamspam'"
   ]
  },
  {
   "cell_type": "code",
   "execution_count": 24,
   "id": "7e886841",
   "metadata": {},
   "outputs": [
    {
     "data": {
      "text/plain": [
       "'spamspamspam'"
      ]
     },
     "execution_count": 24,
     "metadata": {},
     "output_type": "execute_result"
    }
   ],
   "source": [
    "'spam'*3"
   ]
  },
  {
   "cell_type": "markdown",
   "id": "72555959",
   "metadata": {},
   "source": [
    "both have same value i.e.'spamspamspam'"
   ]
  },
  {
   "cell_type": "markdown",
   "id": "a138627b",
   "metadata": {},
   "source": [
    "Ans8:\n",
    "In pyhton a variable must start with alphabet or underscore and must contain alphanumeric and underscore characters only.\n",
    "So egg satisfies these condition so it is a valid variable name whereas 100 starts with integer value which is not allowable syntax so it is invalid"
   ]
  },
  {
   "cell_type": "markdown",
   "id": "ee8abe9a",
   "metadata": {},
   "source": [
    "Ans9:\n",
    "To get integer --> int(variable_name)\n",
    "To get floating pt no --> float(variable_name)\n",
    "To get string --> str(variable_name)"
   ]
  },
  {
   "cell_type": "markdown",
   "id": "aca1a688",
   "metadata": {},
   "source": [
    "Ans10:\n",
    "'I have eaten' + 99 + 'burritos'\n",
    "This statement gives an error beacuse we are adding string data dype with integer data type , we can only concatenate string variables together so the 99 in between which is an integer causes an error\n",
    "so to resolve this we make 99 as String by  simmply using single quotes:"
   ]
  },
  {
   "cell_type": "code",
   "execution_count": 25,
   "id": "af3c1a6b",
   "metadata": {},
   "outputs": [
    {
     "data": {
      "text/plain": [
       "'I have eaten 99 burritos'"
      ]
     },
     "execution_count": 25,
     "metadata": {},
     "output_type": "execute_result"
    }
   ],
   "source": [
    "'I have eaten ' + '99' + ' burritos'"
   ]
  },
  {
   "cell_type": "code",
   "execution_count": null,
   "id": "463a13c4",
   "metadata": {},
   "outputs": [],
   "source": []
  }
 ],
 "metadata": {
  "kernelspec": {
   "display_name": "Python 3 (ipykernel)",
   "language": "python",
   "name": "python3"
  },
  "language_info": {
   "codemirror_mode": {
    "name": "ipython",
    "version": 3
   },
   "file_extension": ".py",
   "mimetype": "text/x-python",
   "name": "python",
   "nbconvert_exporter": "python",
   "pygments_lexer": "ipython3",
   "version": "3.9.12"
  }
 },
 "nbformat": 4,
 "nbformat_minor": 5
}
