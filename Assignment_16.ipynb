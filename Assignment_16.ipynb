{
 "cells": [
  {
   "cell_type": "markdown",
   "id": "938d9c37",
   "metadata": {},
   "source": [
    "### Python Basics : Assignment - 16"
   ]
  },
  {
   "cell_type": "markdown",
   "id": "540431bc",
   "metadata": {},
   "source": [
    "### Question 1: Create a list called years_list, starting with the year of your birth, and each year thereafter until the year of your fifth birthday. For example, if you were born in 1980. the list would be years_list = [1980, 1981, 1982, 1983, 1984, 1985].\n",
    "\n",
    "Answer: "
   ]
  },
  {
   "cell_type": "code",
   "execution_count": 4,
   "id": "dbc198bf",
   "metadata": {},
   "outputs": [
    {
     "data": {
      "text/plain": [
       "[1986, 1987, 1988, 1989, 1990, 1991]"
      ]
     },
     "execution_count": 4,
     "metadata": {},
     "output_type": "execute_result"
    }
   ],
   "source": [
    "years_list = [x for x in range(1986, 1986+6)]\n",
    "years_list"
   ]
  },
  {
   "cell_type": "markdown",
   "id": "0a7d73d6",
   "metadata": {},
   "source": [
    "### Question 2 : In which year in years_list was your third birthday? Remember, you were 0 years of age for your first year.\n",
    "\n",
    "Answer:"
   ]
  },
  {
   "cell_type": "code",
   "execution_count": 5,
   "id": "f7826578",
   "metadata": {},
   "outputs": [
    {
     "data": {
      "text/plain": [
       "1989"
      ]
     },
     "execution_count": 5,
     "metadata": {},
     "output_type": "execute_result"
    }
   ],
   "source": [
    "third_Bday = years_list[3]\n",
    "third_Bday"
   ]
  },
  {
   "cell_type": "markdown",
   "id": "36dd7bd7",
   "metadata": {},
   "source": [
    "### Question 3 : In the years list, which year were you the oldest?\n",
    "\n",
    "Answer: "
   ]
  },
  {
   "cell_type": "code",
   "execution_count": 6,
   "id": "807eecad",
   "metadata": {},
   "outputs": [
    {
     "data": {
      "text/plain": [
       "1991"
      ]
     },
     "execution_count": 6,
     "metadata": {},
     "output_type": "execute_result"
    }
   ],
   "source": [
    " oldest = years_list[-1]\n",
    "oldest"
   ]
  },
  {
   "cell_type": "markdown",
   "id": "195d9fc0",
   "metadata": {},
   "source": [
    "### Question 4 : Make a list called things with these three strings as elements: \"mozzarella\", \"cinderella\", \"salmonella\".\n",
    "\n",
    "Answer: "
   ]
  },
  {
   "cell_type": "code",
   "execution_count": 7,
   "id": "f50ef115",
   "metadata": {},
   "outputs": [
    {
     "data": {
      "text/plain": [
       "['mozzarella', 'cinderella', 'salmonella']"
      ]
     },
     "execution_count": 7,
     "metadata": {},
     "output_type": "execute_result"
    }
   ],
   "source": [
    "things = [\"mozzarella\", \"cinderella\", \"salmonella\"]\n",
    "things"
   ]
  },
  {
   "cell_type": "markdown",
   "id": "984b0c5c",
   "metadata": {},
   "source": [
    "### Question 5 : Capitalize the element in things that refers to a person and then print the list. Did it change the element in the list?\n",
    "\n",
    "Answer:"
   ]
  },
  {
   "cell_type": "code",
   "execution_count": 8,
   "id": "bfce8777",
   "metadata": {},
   "outputs": [
    {
     "data": {
      "text/plain": [
       "['mozzarella', 'Cinderella', 'salmonella']"
      ]
     },
     "execution_count": 8,
     "metadata": {},
     "output_type": "execute_result"
    }
   ],
   "source": [
    "l = len(things)\n",
    "for i in range(0,l):\n",
    "    if things[i] == 'cinderella':\n",
    "        things[i] = things[i].capitalize()\n",
    "        \n",
    "things"
   ]
  },
  {
   "cell_type": "markdown",
   "id": "589ae3c2",
   "metadata": {},
   "source": [
    "### Question 6 : Make a surprise list with the elements \"Groucho,\" \"Chico,\" and \"Harpo.\"\n",
    "\n",
    "Answer: "
   ]
  },
  {
   "cell_type": "code",
   "execution_count": 9,
   "id": "ce45871b",
   "metadata": {},
   "outputs": [],
   "source": [
    "surprise = [\"Groucho\", \"Chico\", \"Harpo\"]"
   ]
  },
  {
   "cell_type": "markdown",
   "id": "3fed0f23",
   "metadata": {},
   "source": [
    "### Question 7 : Lowercase the last element of the surprise list, reverse it, and then capitalize it.\n",
    "\n",
    "Answer:"
   ]
  },
  {
   "cell_type": "code",
   "execution_count": 23,
   "id": "670879a5",
   "metadata": {},
   "outputs": [
    {
     "name": "stdout",
     "output_type": "stream",
     "text": [
      "oprah\n"
     ]
    },
    {
     "data": {
      "text/plain": [
       "'Harpo'"
      ]
     },
     "execution_count": 23,
     "metadata": {},
     "output_type": "execute_result"
    }
   ],
   "source": [
    "s = surprise[-1].lower()\n",
    "print(s)\n",
    "s[-1::-1].capitalize()"
   ]
  },
  {
   "cell_type": "markdown",
   "id": "036e2bbb",
   "metadata": {},
   "source": [
    "###### OR"
   ]
  },
  {
   "cell_type": "code",
   "execution_count": 11,
   "id": "24cc252b",
   "metadata": {},
   "outputs": [
    {
     "data": {
      "text/plain": [
       "['Groucho', 'Chico', 'Oprah']"
      ]
     },
     "execution_count": 11,
     "metadata": {},
     "output_type": "execute_result"
    }
   ],
   "source": [
    "last_element = surprise[-1]\n",
    "last_element = last_element.lower()\n",
    "word = \"\".join(list(reversed(last_element)))\n",
    "new = word.capitalize()\n",
    "surprise[-1] = new\n",
    "surprise"
   ]
  },
  {
   "cell_type": "markdown",
   "id": "5045bc7a",
   "metadata": {},
   "source": [
    "### Question 8 : Make an English-to-French dictionary called e2f and print it. Here are your starter words: dog is chien, cat is chat, and walrus is morse.\n",
    "\n",
    "Answer:"
   ]
  },
  {
   "cell_type": "code",
   "execution_count": 12,
   "id": "ea4ba409",
   "metadata": {},
   "outputs": [
    {
     "name": "stdout",
     "output_type": "stream",
     "text": [
      "{'dog': 'chien', 'cat': 'chat', 'walrus': 'morse'}\n"
     ]
    }
   ],
   "source": [
    "e2f = {    \"dog\" : \"chien\",\"cat\" : \"chat\",\"walrus\" : \"morse\"}\n",
    "print(e2f)"
   ]
  },
  {
   "cell_type": "markdown",
   "id": "37bd67b8",
   "metadata": {},
   "source": [
    "### Question 9 : Write the French word for walrus in your three-word dictionary e2f.\n",
    "\n",
    "Answer:"
   ]
  },
  {
   "cell_type": "code",
   "execution_count": 13,
   "id": "be52fdc6",
   "metadata": {},
   "outputs": [
    {
     "data": {
      "text/plain": [
       "'morse'"
      ]
     },
     "execution_count": 13,
     "metadata": {},
     "output_type": "execute_result"
    }
   ],
   "source": [
    "e2f['walrus']"
   ]
  },
  {
   "cell_type": "markdown",
   "id": "f53536f0",
   "metadata": {},
   "source": [
    "### Question 10 : Make a French-to-English dictionary called f2e from e2f. Use the items method.\n",
    "\n",
    "Answer: "
   ]
  },
  {
   "cell_type": "code",
   "execution_count": 14,
   "id": "b306d958",
   "metadata": {},
   "outputs": [],
   "source": [
    "e2f = {'dog': 'chien', 'cat': 'chat', 'walrus': 'morse'}\n",
    "f2e = {}\n",
    "for english, french in e2f.items():\n",
    "    f2e[french] = english"
   ]
  },
  {
   "cell_type": "markdown",
   "id": "608bf267",
   "metadata": {},
   "source": [
    "### Question 11 :  Print the English version of the French word chien using f2e.\n",
    "\n",
    "Answer:"
   ]
  },
  {
   "cell_type": "code",
   "execution_count": 15,
   "id": "c4c482dc",
   "metadata": {},
   "outputs": [
    {
     "data": {
      "text/plain": [
       "'dog'"
      ]
     },
     "execution_count": 15,
     "metadata": {},
     "output_type": "execute_result"
    }
   ],
   "source": [
    "f2e['chien']"
   ]
  },
  {
   "cell_type": "markdown",
   "id": "2f86f592",
   "metadata": {},
   "source": [
    "### Question 12 : Make and print a set of English words from the keys in e2f.\n",
    "\n",
    "Answer:"
   ]
  },
  {
   "cell_type": "code",
   "execution_count": 16,
   "id": "f0686846",
   "metadata": {},
   "outputs": [
    {
     "data": {
      "text/plain": [
       "dict_keys(['dog', 'cat', 'walrus'])"
      ]
     },
     "execution_count": 16,
     "metadata": {},
     "output_type": "execute_result"
    }
   ],
   "source": [
    "e2f.keys()"
   ]
  },
  {
   "cell_type": "markdown",
   "id": "443f422e",
   "metadata": {},
   "source": [
    "### Question 13 : Make a multilevel dictionary called life. Use these strings for the topmost keys: 'animals', 'plants', and 'other'. Make the 'animals' key refer to another dictionary with the keys 'cats', 'octopi', and 'emus'. Make the 'cats' key refer to a list of strings with the values 'Henri', 'Grumpy', and 'Lucy'. Make all the other keys refer to empty dictionaries.\n",
    "\n",
    "Answer:"
   ]
  },
  {
   "cell_type": "code",
   "execution_count": 17,
   "id": "646bf091",
   "metadata": {},
   "outputs": [],
   "source": [
    "life = {\n",
    "    'animals': {\n",
    "            'cats' : ['Henri', 'Grumpy', 'Lucy'],\n",
    "            'octopi': {},\n",
    "            'emus' : {}\n",
    "    } ,\n",
    "    'plants': {},\n",
    "    'other' : {}\n",
    "}\n"
   ]
  },
  {
   "cell_type": "markdown",
   "id": "42353f11",
   "metadata": {},
   "source": [
    "### Question 14 : Print the top-level keys of life.\n",
    "\n",
    "Answer:"
   ]
  },
  {
   "cell_type": "code",
   "execution_count": 18,
   "id": "0449e9fc",
   "metadata": {},
   "outputs": [
    {
     "data": {
      "text/plain": [
       "dict_keys(['animals', 'plants', 'other'])"
      ]
     },
     "execution_count": 18,
     "metadata": {},
     "output_type": "execute_result"
    }
   ],
   "source": [
    "life.keys()"
   ]
  },
  {
   "cell_type": "markdown",
   "id": "0bff774c",
   "metadata": {},
   "source": [
    "### Question 15 : Print the keys for life['animals']\n",
    "\n",
    "Answer:"
   ]
  },
  {
   "cell_type": "code",
   "execution_count": 19,
   "id": "52db570e",
   "metadata": {},
   "outputs": [
    {
     "data": {
      "text/plain": [
       "dict_keys(['cats', 'octopi', 'emus'])"
      ]
     },
     "execution_count": 19,
     "metadata": {},
     "output_type": "execute_result"
    }
   ],
   "source": [
    "life['animals'].keys()"
   ]
  },
  {
   "cell_type": "markdown",
   "id": "ef030fb5",
   "metadata": {},
   "source": [
    "### Question 16 : Print the values for life['animals']['cats']\n",
    "\n",
    "Answer:"
   ]
  },
  {
   "cell_type": "code",
   "execution_count": 20,
   "id": "63d66993",
   "metadata": {},
   "outputs": [
    {
     "data": {
      "text/plain": [
       "['Henri', 'Grumpy', 'Lucy']"
      ]
     },
     "execution_count": 20,
     "metadata": {},
     "output_type": "execute_result"
    }
   ],
   "source": [
    "life['animals']['cats']"
   ]
  }
 ],
 "metadata": {
  "kernelspec": {
   "display_name": "Python 3 (ipykernel)",
   "language": "python",
   "name": "python3"
  },
  "language_info": {
   "codemirror_mode": {
    "name": "ipython",
    "version": 3
   },
   "file_extension": ".py",
   "mimetype": "text/x-python",
   "name": "python",
   "nbconvert_exporter": "python",
   "pygments_lexer": "ipython3",
   "version": "3.9.12"
  }
 },
 "nbformat": 4,
 "nbformat_minor": 5
}
