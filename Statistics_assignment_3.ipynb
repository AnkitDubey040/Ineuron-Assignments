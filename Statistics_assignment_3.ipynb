{
 "cells": [
  {
   "cell_type": "markdown",
   "id": "ed62592d",
   "metadata": {},
   "source": [
    "#                                  Statistics Assignment -3\n",
    "\n",
    "1.\t__Write the Gaussian Distribution empirical formula.__\n",
    "\n",
    "**Ans**:  The empirical rule in statistics, also known as the 68 95 99 rule, states that for normal distributions, 68% of observed data points will lie inside one standard deviation of the mean, 95% will fall within two standard deviations, and 99.7% will occur within three standard deviations. Let μ be the population mean and σ be the population standard deviation , then   \n",
    "P [ μ – σ <= X <= μ + σ ] ≈ 68 %  \n",
    "P [ μ – 2σ <= X <= μ + 2σ ] ≈ 95 %  \n",
    " P [ μ – 3σ <= X <= μ + 3σ ] ≈ 99.8 %    \n",
    " \n",
    "\n",
    "\n",
    "2.\t__What is the Z-score, and why is it important?__\n",
    "\n",
    "**Ans**:A z-score measures the distance between a data point and the mean using standard deviations. Z-scores can be positive or negative. The sign tells you whether the observation is above or below the mean.   \n",
    "It is useful to standardized the values (raw scores) of a normal distribution by converting them into z-scores because:\n",
    "\n",
    "(a) it allows researchers to calculate the probability of a score occurring within a standard normal distribution;  \n",
    "(b) and enables us to compare two scores that are from different samples (which may have different means and standard deviations).\n",
    "\n",
    "3.\t__What is an outlier, exactly?__\n",
    "\n",
    "**Ans**: An outlier is an observation that lies an abnormal distance from other values in a random sample from a population\n",
    "\n",
    "4.\t__What are our options for dealing with outliers in our dataset?__\n",
    "\n",
    "**Ans**: Ways to deal with outliers in data\n",
    "a. Set up a filter in your testing tool\n",
    "b. Remove or change outliers during post-test analysis\n",
    "c. Change the value of outliers\n",
    "d. Consider the underlying distribution\n",
    "e. Consider the value of mild outliers\n",
    "\n",
    "\n",
    "5.\t__Write the sample and population variances equations and explain Bessel Correction.__\n",
    "\n",
    "**Ans**:  Population Variance ,$$\\sigma^2 =\\sqrt \\frac {\\sum_{i=1}^{N} {{(x_i - \\mu)}}^2}  {N} $$  \n",
    "\n",
    "Sample Variance  ,  $$s^2 =\\sqrt \\frac {\\sum_{i=1}^{n} {{(x_i - \\bar x)}}^2}  {n-1} $$\n",
    "\n",
    "Bessels’ correction refers to the “n-1” found in several formulas, including the sample variance and sample standard deviation formulas. This correction is made to correct for the fact that these sample statistics tend to underestimate the actual parameters found in the population. The reason we subtract 1 is the calculations for both the sample standard deviation and the sample variance both contain a little bias. Bessel’s correction (i.e. subtracting 1 from your sample size) corrects this bias. In other words, you’ll usually get a more accurate answer if you use n-1 instead of n."
   ]
  }
 ],
 "metadata": {
  "kernelspec": {
   "display_name": "Python 3 (ipykernel)",
   "language": "python",
   "name": "python3"
  },
  "language_info": {
   "codemirror_mode": {
    "name": "ipython",
    "version": 3
   },
   "file_extension": ".py",
   "mimetype": "text/x-python",
   "name": "python",
   "nbconvert_exporter": "python",
   "pygments_lexer": "ipython3",
   "version": "3.9.12"
  }
 },
 "nbformat": 4,
 "nbformat_minor": 5
}
