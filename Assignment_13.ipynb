{
 "cells": [
  {
   "cell_type": "markdown",
   "id": "d63f9d4f",
   "metadata": {},
   "source": [
    "#### 1. What advantages do Excel spreadsheets have over CSV spreadsheets?\n",
    "Ans:  \n",
    "Excel (XLS and XLSX) file formats are better for storing and analysing complex data.  \n",
    "An Excel not only stores data but can also do operations on the data using macros, formulas etc.  \n",
    "CSV files are plain-text files, it does not contain formatting, formulas, macros, etc. It is also known as flat files.   \n",
    "\n",
    "#### 2.What do you pass to csv.reader() and csv.writer() to create reader and writer objects?  \n",
    "Ans:  \n",
    "The csv.reader(csvfile, dialect='excel', **optional_parameters) method can be used to extract data from a file that contains CSV-formatted data. The parameters that passed are:  \n",
    "\n",
    "csvfile: An object that supports the iterator protocol, which in this case is usually a file object for the CSV file.  \n",
    "dialect (optional): The name of the dialect to use.  \n",
    "optional_parameters (optional): Formatting parameters that will overwrite those specified in the dialect.  \n",
    "\n",
    "The csv.writer(csvfile, dialect='excel', **optional_parameters) method, which is similar to the reader method we described above, is a method that permits us to write data to a file in CSV format. Here the parameters are:  \n",
    "\n",
    "csvfile: Any object with a write() method, which in this case is usually a file object.  \n",
    "dialect (optional): The name of the dialect to use.  \n",
    "optional_parameters (optional):Formatting parameters that will overwrite those specified in the dialect.    \n",
    "\n",
    "#### 3. What modes do File objects for reader and writer objects need to be opened in?  \n",
    "Ans:  \n",
    "In order to open a file for reading or writing purposes, we must use the built-in open() function. It takes two arguments. First is the name of the file and second is for what purpose we want to open it .i.e. for reading or writing.    \n",
    "    \n",
    "For reading purpose the modes are:    \n",
    "    \n",
    "r: Open a file for reading (default).    \n",
    "rb: Opens a file for reading only in binary format.    \n",
    "r+: Opens a file for both reading and writing.  \n",
    "    \n",
    "For writing purpose modes are:  \n",
    "    \n",
    "w: Opens a file for writing only. Overwrites the file if the file exists. If the file does not exist, creates a new file for writing.    \n",
    "w+: Opens a file for both writing and reading.   \n",
    "wb+: Opens a file for both writing and reading in binary format.   \n",
    "a: Opens a file for appending. The file pointer is at the end of the file if the file exists. That is, the file is in the append mode. If the file does not exist, it creates a new file for writing.  \n",
    "a+: Opens a file for both appending and reading.     \n",
    "ab: Opens a file for appending in binary format.   \n",
    "ab+: Opens a file for both appending and reading in binary format.    \n",
    "x: open for exclusive creation, failing if the file already exists.  \n",
    "\n",
    "#### 4. What method takes a list argument and writes it to a CSV file?  \n",
    "Ans:  \n",
    "csv.writer class provides two methods for writing to CSV file, they are writerow() and writerows(). writerow() method writes a single row at a time, whereas writerows() method is used to write multiple rows at a time.  \n",
    "\n",
    "#### 5. What do the keyword arguments delimiter and line terminator do?  \n",
    "Ans:  \n",
    "The delimiter is the character that appears between cells on a row. By default, the delimiter for a CSV file is a comma. The line terminator is the character that comes at the end of a row. By default, the line terminator is a newline.  \n",
    "\n",
    "#### 6. What function takes a string of JSON data and returns a Python data structure?  \n",
    "Ans:  \n",
    "loads() method of the json module takes a string of JSON data and returns a Python data structure.  "
   ]
  },
  {
   "cell_type": "code",
   "execution_count": 17,
   "id": "4addd58f",
   "metadata": {},
   "outputs": [
    {
     "data": {
      "text/plain": [
       "str"
      ]
     },
     "execution_count": 17,
     "metadata": {},
     "output_type": "execute_result"
    }
   ],
   "source": [
    "import json\n",
    "d = ''' { \"andy\" : 123 , \"ajb\": 213}  '''\n",
    "type(d)"
   ]
  },
  {
   "cell_type": "code",
   "execution_count": 18,
   "id": "3028fd5b",
   "metadata": {},
   "outputs": [
    {
     "name": "stdout",
     "output_type": "stream",
     "text": [
      "<class 'dict'>\n",
      "{'andy': 123, 'ajb': 213}\n"
     ]
    }
   ],
   "source": [
    "d = json.loads(d)\n",
    "print(type(d))\n",
    "print(d)"
   ]
  },
  {
   "cell_type": "markdown",
   "id": "ef766885",
   "metadata": {},
   "source": [
    "#### 7. What function takes a Python data structure and returns a string of JSON data?  \n",
    "Ans:  \n",
    "dumps() method takes a python data structure and returns a string of JSON data. "
   ]
  },
  {
   "cell_type": "code",
   "execution_count": 19,
   "id": "3b45b5bb",
   "metadata": {},
   "outputs": [
    {
     "name": "stdout",
     "output_type": "stream",
     "text": [
      "{'andy': 123, 'ajb': 213}\n",
      "<class 'dict'>\n"
     ]
    }
   ],
   "source": [
    "print(d)\n",
    "print(type(d))"
   ]
  },
  {
   "cell_type": "code",
   "execution_count": 20,
   "id": "34bb3377",
   "metadata": {},
   "outputs": [
    {
     "name": "stdout",
     "output_type": "stream",
     "text": [
      "{\"ajb\": 213, \"andy\": 123}\n"
     ]
    }
   ],
   "source": [
    "d = json.dumps(d, sort_keys=True)\n",
    "print(d)"
   ]
  },
  {
   "cell_type": "code",
   "execution_count": 21,
   "id": "8418c8f8",
   "metadata": {},
   "outputs": [
    {
     "name": "stdout",
     "output_type": "stream",
     "text": [
      "<class 'str'>\n"
     ]
    }
   ],
   "source": [
    "print(type(d))"
   ]
  }
 ],
 "metadata": {
  "kernelspec": {
   "display_name": "Python 3 (ipykernel)",
   "language": "python",
   "name": "python3"
  },
  "language_info": {
   "codemirror_mode": {
    "name": "ipython",
    "version": 3
   },
   "file_extension": ".py",
   "mimetype": "text/x-python",
   "name": "python",
   "nbconvert_exporter": "python",
   "pygments_lexer": "ipython3",
   "version": "3.9.12"
  }
 },
 "nbformat": 4,
 "nbformat_minor": 5
}
