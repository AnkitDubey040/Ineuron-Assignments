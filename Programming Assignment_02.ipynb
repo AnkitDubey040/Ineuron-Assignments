{
 "cells": [
  {
   "cell_type": "markdown",
   "id": "73b236e4",
   "metadata": {},
   "source": [
    "1. Write a Python program to convert kilometers to miles?\n",
    "2. Write a Python program to convert Celsius to Fahrenheit?\n",
    "3. Write a Python program to display calendar?\n",
    "4. Write a Python program to solve quadratic equation?\n",
    "5. Write a Python program to swap two variables without temp variable?"
   ]
  },
  {
   "cell_type": "code",
   "execution_count": 7,
   "id": "8658a70d",
   "metadata": {},
   "outputs": [
    {
     "name": "stdout",
     "output_type": "stream",
     "text": [
      "Enter distance (in kms): 5\n",
      "5.0 kms is equal to 3.1068559611866697 miles\n"
     ]
    }
   ],
   "source": [
    "#1\n",
    "a = float(input(\"Enter distance (in kms): \"))\n",
    "b = float(a/1.609344)\n",
    "print(a , \"kms is equal to\" , b ,\"miles\")"
   ]
  },
  {
   "cell_type": "code",
   "execution_count": 8,
   "id": "7453401c",
   "metadata": {},
   "outputs": [
    {
     "name": "stdout",
     "output_type": "stream",
     "text": [
      "Enter temperature in celcius: 35.5\n",
      "Temp in fahrenheit is: 95.9\n"
     ]
    }
   ],
   "source": [
    "#2\n",
    "a = float(input(\"Enter temperature in celcius: \"))\n",
    "b = (a*(9/5)) + 32\n",
    "print(\"Temp in fahrenheit is:\",b)"
   ]
  },
  {
   "cell_type": "code",
   "execution_count": 9,
   "id": "739b9fbf",
   "metadata": {},
   "outputs": [
    {
     "name": "stdout",
     "output_type": "stream",
     "text": [
      "Enter the year: 2022\n",
      "Enter month9\n",
      "   September 2022\n",
      "Mo Tu We Th Fr Sa Su\n",
      "          1  2  3  4\n",
      " 5  6  7  8  9 10 11\n",
      "12 13 14 15 16 17 18\n",
      "19 20 21 22 23 24 25\n",
      "26 27 28 29 30\n",
      "\n"
     ]
    }
   ],
   "source": [
    "#3\n",
    "import calendar\n",
    "a = int(input(\"Enter the year: \"))\n",
    "b = int(input(\"Enter month\"))\n",
    "print(calendar.month(a,b))"
   ]
  },
  {
   "cell_type": "markdown",
   "id": "1d5d4242",
   "metadata": {},
   "source": [
    "#4:   \n",
    "A quadratic equation is of type ax<sup>2</sup> + bx +c  = 0  \n",
    "so we need to get the value of a , b and c in order to solve the equation, so from user we will get these values and solve for roots of the equation"
   ]
  },
  {
   "cell_type": "code",
   "execution_count": 21,
   "id": "e0471e8c",
   "metadata": {},
   "outputs": [
    {
     "name": "stdout",
     "output_type": "stream",
     "text": [
      "Enter value of a : 2\n",
      "Enter value of b : 4\n",
      "Enter value of c : 3\n",
      "The first root is :  (-1+0.7071067811865476j)\n",
      "the second root is :  (-1-0.7071067811865476j)\n"
     ]
    }
   ],
   "source": [
    "a = float(input(\"Enter value of a : \"))\n",
    "b = float(input(\"Enter value of b : \"))\n",
    "c = float(input(\"Enter value of c : \"))\n",
    "\n",
    "disc = (b**2) - 4*a*c\n",
    "\n",
    "x1 =  (-b + disc**0.5)/(2*a)\n",
    "x2 =  (-b - disc**0.5)/(2*a)\n",
    "\n",
    "print(\"The first root is : \" , x1)\n",
    "print(\"the second root is : \" , x2)"
   ]
  },
  {
   "cell_type": "code",
   "execution_count": 24,
   "id": "67ba2838",
   "metadata": {},
   "outputs": [
    {
     "name": "stdout",
     "output_type": "stream",
     "text": [
      "enter value of variable a : 2.3\n",
      "enter value of variable b : 134\n",
      "Actual values : a =  2.3  b =  134.0\n",
      "After swapping the values are : a =  134.0  b  =  2.3\n"
     ]
    }
   ],
   "source": [
    "#5 \n",
    "a = float(input(\"enter value of variable a : \"))\n",
    "b = float(input(\"enter value of variable b : \"))\n",
    "print(\"Actual values : a = \" , a , \" b = \" , b)\n",
    "# now swapping the variables\n",
    "a,b = b,a \n",
    "print(\"After swapping the values are : a = \" , a , \" b  = \" , b)"
   ]
  }
 ],
 "metadata": {
  "kernelspec": {
   "display_name": "Python 3 (ipykernel)",
   "language": "python",
   "name": "python3"
  },
  "language_info": {
   "codemirror_mode": {
    "name": "ipython",
    "version": 3
   },
   "file_extension": ".py",
   "mimetype": "text/x-python",
   "name": "python",
   "nbconvert_exporter": "python",
   "pygments_lexer": "ipython3",
   "version": "3.9.12"
  }
 },
 "nbformat": 4,
 "nbformat_minor": 5
}
