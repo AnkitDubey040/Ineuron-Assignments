{
 "cells": [
  {
   "cell_type": "code",
   "execution_count": 1,
   "id": "d3d31a1f",
   "metadata": {},
   "outputs": [],
   "source": [
    "#1. Write a Python program to print &quot;Hello Python&quot;?\n",
    "#2. Write a Python program to do arithmetical operations addition and division.?\n",
    "#3. Write a Python program to find the area of a triangle?\n",
    "#4. Write a Python program to swap two variables?\n",
    "#5. Write a Python program to generate a random number?"
   ]
  },
  {
   "cell_type": "code",
   "execution_count": 2,
   "id": "cfe33069",
   "metadata": {},
   "outputs": [
    {
     "name": "stdout",
     "output_type": "stream",
     "text": [
      "Hello Python\n"
     ]
    }
   ],
   "source": [
    "#1:\n",
    "print(\"Hello Python\")"
   ]
  },
  {
   "cell_type": "code",
   "execution_count": 2,
   "id": "bf8308c0",
   "metadata": {},
   "outputs": [
    {
     "name": "stdout",
     "output_type": "stream",
     "text": [
      "Enter value of a: 5\n",
      "Enter value of b: 2\n",
      "The sum is  7\n",
      "The division is  2.5\n"
     ]
    }
   ],
   "source": [
    "#2:\n",
    "a=float(input(\"Enter value of a: \"))\n",
    "b=float(input(\"Enter value of b: \"))\n",
    "c=a+b\n",
    "d=float(a/b)\n",
    "print(\"The sum is \", c )\n",
    "print(\"The division is \", d)"
   ]
  },
  {
   "cell_type": "code",
   "execution_count": 6,
   "id": "9b24a423",
   "metadata": {},
   "outputs": [
    {
     "name": "stdout",
     "output_type": "stream",
     "text": [
      "Enter length of first side: 6\n",
      "Enter length of second side: 5\n",
      "Enter length of third side: 6\n",
      "The area of triangle is :  13.635890143294644\n"
     ]
    }
   ],
   "source": [
    "#3\n",
    "a=float(input(\"Enter length of first side: \" ))\n",
    "b=float(input(\"Enter length of second side: \"))\n",
    "c=float(input(\"Enter length of third side: \"))\n",
    "s=float((a+b+c)/2)\n",
    "if s <= a or s <= b or s <= c:\n",
    "    print(\"Invalid input because sum of any two sides must be greater than third side\")\n",
    "else:\n",
    "    area = (s*(s-a)*(s-b)*(s-c))**(1/2)\n",
    "    print(\"The area of triangle is : \" ,area)"
   ]
  },
  {
   "cell_type": "code",
   "execution_count": 5,
   "id": "d875f922",
   "metadata": {},
   "outputs": [
    {
     "name": "stdout",
     "output_type": "stream",
     "text": [
      "enter value of variable a: 1341\n",
      "Enter value of variable b: 456\n",
      "new value of a is:  456\n",
      "new value of b is:  1341\n"
     ]
    }
   ],
   "source": [
    "#4\n",
    "a=input(\"enter value of variable a: \")\n",
    "b=input(\"Enter value of variable b: \")\n",
    "temp = a\n",
    "a=b\n",
    "b=temp\n",
    "print (\"new value of a is: \", a)\n",
    "print(\"new value of b is: \",b)\n",
    "\n"
   ]
  },
  {
   "cell_type": "code",
   "execution_count": 18,
   "id": "a472b874",
   "metadata": {},
   "outputs": [
    {
     "data": {
      "text/plain": [
       "0.5404216634355218"
      ]
     },
     "execution_count": 18,
     "metadata": {},
     "output_type": "execute_result"
    }
   ],
   "source": [
    "#5\n",
    "import random\n",
    "a = random.random()\n",
    "a"
   ]
  },
  {
   "cell_type": "code",
   "execution_count": null,
   "id": "af6090e0",
   "metadata": {},
   "outputs": [],
   "source": []
  }
 ],
 "metadata": {
  "kernelspec": {
   "display_name": "Python 3 (ipykernel)",
   "language": "python",
   "name": "python3"
  },
  "language_info": {
   "codemirror_mode": {
    "name": "ipython",
    "version": 3
   },
   "file_extension": ".py",
   "mimetype": "text/x-python",
   "name": "python",
   "nbconvert_exporter": "python",
   "pygments_lexer": "ipython3",
   "version": "3.9.12"
  }
 },
 "nbformat": 4,
 "nbformat_minor": 5
}
