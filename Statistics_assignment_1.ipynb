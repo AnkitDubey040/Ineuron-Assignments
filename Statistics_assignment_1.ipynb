{
 "cells": [
  {
   "cell_type": "markdown",
   "id": "2792db49",
   "metadata": {},
   "source": [
    "#                                  Statistics Assignment -1\n",
    "\n",
    "1.\t__What exactly is the difference between descriptive and inferential statistics?__\n",
    "\n",
    "Ans:  Descriptive statistics focuses on describing the visible characteristics of the dataset i.e., Population or sample in the form of graphs, charts, tables, etc. It can also be called as Summary statistics, whereas Inferential Statistics focuses on making predictions or generalizations about a larger dataset based on the given sample data. \n",
    "Descriptive statistics make conclusions about data based on measures like central tendency, distribution, and variance meanwhile inferential Stats draws conclusions based on techniques like hypothesis testing, confidence intervals, correlation and regression analysis. \n",
    "\n",
    "2.\t__I'm not sure what is the difference between a sample and a population?__\n",
    "\n",
    "Ans:   Population is the entire group which is under observation or study and that you want to draw conclusions about. A sample is the specific group from that population that we will use to collect data from to make conclusion for the whole population. In other words, Sample is a small subset of the population \n",
    "For Example: In the study of number of cancer patients in India we ask 1 million people whether they have been ever diagnosed with cancer or not. In this   the population is all the people of India i.e., 1.38 billion people and the sample are the 1 million people selected for study.\n",
    "\n",
    "3.\t__What distinguishes descriptive statistics from other types of statistics?__\n",
    "\n",
    "Ans:  Descriptive statistics summarize and organize characteristics of a data set. It is different from other types of stats because it is easy to understand, interpret and also easy to calculate. \n",
    "It includes Graphs, charts and visuals that are easy to interpret by any layman and person with little to no knowledge can also understand it and summarize characteristics if data.  \n",
    "\n",
    "4.\t__What is the difference between quantitative and qualitative data?__\n",
    "\n",
    "Ans: Quantitative data refers to any information that can be quantified, counted or measured, and given a numerical value. Qualitative data is descriptive in nature, expressed in terms of language rather than numerical values.\n",
    "Also, Quantitative data tells us how many, how much, or how often in calculations. Qualitative data can help us to understand why, how, or what happened behind certain behaviours and lastly Quantitative data is fixed and universal, whereas Qualitative data is subjective and unique.\n",
    "\n",
    "5.\t__What is the definition of a percentile?__\n",
    "\n",
    "Ans: A percentile is one of the equal divisions of an amount, expressed on a scale from 0 to 100. For example, the 90th percentile of an amount is all amounts between zero percent and ninety percent.\n"
   ]
  }
 ],
 "metadata": {
  "kernelspec": {
   "display_name": "Python 3 (ipykernel)",
   "language": "python",
   "name": "python3"
  },
  "language_info": {
   "codemirror_mode": {
    "name": "ipython",
    "version": 3
   },
   "file_extension": ".py",
   "mimetype": "text/x-python",
   "name": "python",
   "nbconvert_exporter": "python",
   "pygments_lexer": "ipython3",
   "version": "3.9.12"
  }
 },
 "nbformat": 4,
 "nbformat_minor": 5
}
