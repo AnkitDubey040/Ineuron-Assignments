{
 "cells": [
  {
   "cell_type": "markdown",
   "id": "d0a1112c",
   "metadata": {},
   "source": [
    "#### 1. Write a Python Program to Find the Factorial of a Number?"
   ]
  },
  {
   "cell_type": "code",
   "execution_count": 1,
   "id": "d212a819",
   "metadata": {},
   "outputs": [
    {
     "name": "stdout",
     "output_type": "stream",
     "text": [
      "Enter a number: 6\n",
      "The factorial of  6 is :  720\n"
     ]
    }
   ],
   "source": [
    "n = int(input(\"Enter a number: \"))\n",
    "k = n \n",
    "i = 1\n",
    "while( k>=1) :\n",
    "    i = i*k\n",
    "    k = k-1\n",
    "    \n",
    "print(\"The factorial of \" , n , \"is : \" ,i)"
   ]
  },
  {
   "cell_type": "markdown",
   "id": "62a102e1",
   "metadata": {},
   "source": [
    "#### 2. Write a Python Program to Display the multiplication Table?"
   ]
  },
  {
   "cell_type": "code",
   "execution_count": 2,
   "id": "bc58cd2e",
   "metadata": {},
   "outputs": [
    {
     "name": "stdout",
     "output_type": "stream",
     "text": [
      "Enter a number : 13\n",
      "The multiplication table of  13  is :\n",
      "13  X  1  =  13\n",
      "13  X  2  =  26\n",
      "13  X  3  =  39\n",
      "13  X  4  =  52\n",
      "13  X  5  =  65\n",
      "13  X  6  =  78\n",
      "13  X  7  =  91\n",
      "13  X  8  =  104\n",
      "13  X  9  =  117\n",
      "13  X  10  =  130\n"
     ]
    }
   ],
   "source": [
    "n = int(input(\"Enter a number : \"))\n",
    "print(\"The multiplication table of \" , n , \" is :\" )\n",
    "for i in range(1,11):\n",
    "    print( n , \" X \" , i , \" = \" , n*i)"
   ]
  },
  {
   "cell_type": "markdown",
   "id": "b26f7ba2",
   "metadata": {},
   "source": [
    "#### 3. Write a Python Program to Print the Fibonacci sequence?"
   ]
  },
  {
   "cell_type": "code",
   "execution_count": 3,
   "id": "28dc9ab0",
   "metadata": {},
   "outputs": [
    {
     "name": "stdout",
     "output_type": "stream",
     "text": [
      "Enter the length of the fibonacci sequence : 13\n"
     ]
    },
    {
     "data": {
      "text/plain": [
       "[0, 1, 1, 2, 3, 5, 8, 13, 21, 34, 55, 89, 144]"
      ]
     },
     "execution_count": 3,
     "metadata": {},
     "output_type": "execute_result"
    }
   ],
   "source": [
    "n = int(input(\"Enter the length of the fibonacci sequence : \"))\n",
    "l = []\n",
    "for i in range(0,n):\n",
    "    if i <= 1:\n",
    "        l.append(i)\n",
    "    else:\n",
    "        i =  l[i-2] +l[i-1]\n",
    "        l.append(i)\n",
    "\n",
    "l        "
   ]
  },
  {
   "cell_type": "markdown",
   "id": "f6258ec3",
   "metadata": {},
   "source": [
    "#### 4. Write a Python Program to Check Armstrong Number?"
   ]
  },
  {
   "cell_type": "code",
   "execution_count": 4,
   "id": "25a56e78",
   "metadata": {},
   "outputs": [
    {
     "name": "stdout",
     "output_type": "stream",
     "text": [
      "Enter a number: 153\n",
      "153 is armstrong number\n"
     ]
    }
   ],
   "source": [
    "num = int(input(\"Enter a number: \"))\n",
    "temp = num\n",
    "temp1 = num\n",
    "i = 1\n",
    "len1 = 0\n",
    "while(num>0):\n",
    "    a = (num) % (10 **i)\n",
    "    i = i+1\n",
    "    len1 = len1+1\n",
    "    num = num -a\n",
    "\n",
    "sum = 0\n",
    "\n",
    "while(temp>0):\n",
    "    t = temp %10\n",
    "    sum = sum + t**len1\n",
    "    temp = temp // 10\n",
    "    \n",
    "if temp1 == sum:\n",
    "    print(f\"{temp1} is armstrong number\")\n",
    "else:\n",
    "    print(f\"{temp1} is not armstrong number\")"
   ]
  },
  {
   "cell_type": "markdown",
   "id": "d93c16bb",
   "metadata": {},
   "source": [
    "#### 5. Write a Python Program to Find Armstrong Number in an Interval?"
   ]
  },
  {
   "cell_type": "code",
   "execution_count": 5,
   "id": "06617c35",
   "metadata": {},
   "outputs": [
    {
     "name": "stdout",
     "output_type": "stream",
     "text": [
      "Enter upper limit : 10\n",
      "Enter lower limit : 456\n",
      " Armstrong numbers between  10  and  456  are :\n",
      "153\n",
      "370\n",
      "371\n",
      "407\n"
     ]
    }
   ],
   "source": [
    "a = int(input(\"Enter upper limit : \"))\n",
    "b = int(input(\"Enter lower limit : \"))\n",
    "print(\" Armstrong numbers between \" , a ,\" and \" , b , \" are :\")\n",
    "for num in range(a,b):\n",
    "    temp = num\n",
    "    temp1 = num\n",
    "    i = 1\n",
    "    len1 = 0\n",
    "    while(num>0):\n",
    "        a = (num) % (10 **i)\n",
    "        i = i+1\n",
    "        len1 = len1+1\n",
    "        num = num -a\n",
    "\n",
    "    sum = 0\n",
    "\n",
    "    while(temp>0):\n",
    "        t = temp %10\n",
    "        sum = sum + t**len1\n",
    "        temp = temp // 10\n",
    "\n",
    "    if temp1 == sum:\n",
    "        print(temp1 )"
   ]
  },
  {
   "cell_type": "markdown",
   "id": "f7d62b88",
   "metadata": {},
   "source": [
    "#### 6. Write a Python Program to Find the Sum of Natural Numbers?"
   ]
  },
  {
   "cell_type": "code",
   "execution_count": 7,
   "id": "57a4e544",
   "metadata": {},
   "outputs": [
    {
     "name": "stdout",
     "output_type": "stream",
     "text": [
      "Enter the number upto which you want sum : 12\n",
      " The sum of first  12  natural numbers is :  78.0\n"
     ]
    }
   ],
   "source": [
    "n = int(input(\"Enter the number upto which you want sum : \"))\n",
    "sum = (n*(n+1)) / 2\n",
    "print(\" The sum of first \" , n , \" natural numbers is : \", sum)    "
   ]
  }
 ],
 "metadata": {
  "kernelspec": {
   "display_name": "Python 3 (ipykernel)",
   "language": "python",
   "name": "python3"
  },
  "language_info": {
   "codemirror_mode": {
    "name": "ipython",
    "version": 3
   },
   "file_extension": ".py",
   "mimetype": "text/x-python",
   "name": "python",
   "nbconvert_exporter": "python",
   "pygments_lexer": "ipython3",
   "version": "3.9.12"
  }
 },
 "nbformat": 4,
 "nbformat_minor": 5
}
